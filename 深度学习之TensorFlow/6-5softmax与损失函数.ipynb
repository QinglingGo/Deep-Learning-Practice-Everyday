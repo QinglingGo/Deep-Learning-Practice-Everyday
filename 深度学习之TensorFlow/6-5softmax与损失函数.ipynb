{
 "cells": [
  {
   "cell_type": "code",
   "execution_count": 1,
   "metadata": {},
   "outputs": [],
   "source": [
    "import tensorflow as tf"
   ]
  },
  {
   "cell_type": "markdown",
   "metadata": {},
   "source": [
    "# 1. 交叉熵"
   ]
  },
  {
   "cell_type": "code",
   "execution_count": 2,
   "metadata": {},
   "outputs": [
    {
     "name": "stdout",
     "output_type": "stream",
     "text": [
      "WARNING:tensorflow:From <ipython-input-2-b3af34257139>:7: softmax_cross_entropy_with_logits (from tensorflow.python.ops.nn_ops) is deprecated and will be removed in a future version.\n",
      "Instructions for updating:\n",
      "\n",
      "Future major versions of TensorFlow will allow gradients to flow\n",
      "into the labels input on backprop by default.\n",
      "\n",
      "See `tf.nn.softmax_cross_entropy_with_logits_v2`.\n",
      "\n"
     ]
    }
   ],
   "source": [
    "labels = [[0, 0, 1],[0, 1, 0]] # label是标签值\n",
    "logits = [[2, 0.5, 6], [0.1, 0, 3]] # logits是网络输出值\n",
    "\n",
    "# 对输出值计算两次softmax\n",
    "logits_scaled = tf.nn.softmax(logits)\n",
    "logits_scaled2 = tf.nn.softmax(logits_scaled)\n",
    "\n",
    "# result1计算的是labels和logits的softmax交叉熵\n",
    "result1 = tf.nn.softmax_cross_entropy_with_logits(labels=labels, logits=logits)\n",
    "result2 = tf.nn.softmax_cross_entropy_with_logits(labels=labels, logits=logits_scaled)\n",
    "result3 = -tf.reduce_sum(labels*tf.log(logits_scaled),1)"
   ]
  },
  {
   "cell_type": "markdown",
   "metadata": {},
   "source": [
    "__打印不同处理方式后得到的结果：__\n",
    "\n",
    "original logits= [[2, 0.5, 6], [0.1, 0, 3]]\n",
    "\n",
    "__经过第一次softmax处理之后，数组中最大的数值会接近于1，其余接近0,总和为1__\n",
    "\n",
    "logits_scaled= [[0.01791432 0.00399722 0.97808844], [0.04980332 0.04506391 0.90513283]]\n",
    "\n",
    "__再一次softmax后，概率会变化，因为上一次softmax使得所有数值在(0,1)之间分布，结果之间的差值<1, 所以本次输出会让概率变得接近__\n",
    "\n",
    "logits_scaled2= [[0.21747023 0.21446465 0.56806517], [0.2300214  0.22893383 0.5410447 ]]\n",
    "\n",
    "__计算分类结果和标签的交叉熵：__\n",
    "\n",
    "__结果中第一类和标签相符，第二类和标签不符，所以第一类交叉熵较小，第二类较大__\n",
    "\n",
    "result1= [0.02215516 3.0996735 ] \n",
    "\n",
    "__比较result2和result1，说明使用tf.nn.softmax_cross_entropy_with_logits()时，logits无需进行softmax转换；若传入softmax之后的logits，则相当于进行2次softmax转换__\n",
    "\n",
    "result2= [0.56551915 1.4743223 ] \n",
    "\n",
    "__若在传入之前logits已经进行了softmax转换，则不能直接传入softmax_cross_entropy_with_logits(),否则相当于2次转换；而是自行构建loss函数以实现功能__\n",
    "\n",
    "result3= [0.02215518 3.0996735 ]"
   ]
  },
  {
   "cell_type": "code",
   "execution_count": 7,
   "metadata": {
    "scrolled": true
   },
   "outputs": [
    {
     "name": "stdout",
     "output_type": "stream",
     "text": [
      "original logits= [[2, 0.5, 6], [0.1, 0, 3]] \n",
      "\n",
      "logits_scaled= [[0.01791432 0.00399722 0.97808844]\n",
      " [0.04980332 0.04506391 0.90513283]] \n",
      "\n",
      "logits_scaled2= [[0.21747023 0.21446465 0.56806517]\n",
      " [0.2300214  0.22893383 0.5410447 ]] \n",
      "\n",
      "result1= [0.02215516 3.0996735 ] \n",
      "\n",
      "result2= [0.56551915 1.4743223 ] \n",
      "\n",
      "result3= [0.02215518 3.0996735 ]\n"
     ]
    }
   ],
   "source": [
    "with tf.Session() as sess:\n",
    "    print (\"original logits=\", logits, \"\\n\")\n",
    "    print (\"logits_scaled=\",sess.run(logits_scaled), \"\\n\")    \n",
    "    print (\"logits_scaled2=\",sess.run(logits_scaled2), \"\\n\") #经过第二次的softmax后，分布概率会有变化\n",
    "    \n",
    "\n",
    "    print (\"result1=\",sess.run(result1),\"\\n\")#正确的方式\n",
    "    print (\"result2=\",sess.run(result2),\"\\n\")#如果将softmax变换完的值放进去会，就相当于算第二次softmax的loss，所以会出错\n",
    "    print (\"result3=\",sess.run(result3))"
   ]
  },
  {
   "cell_type": "markdown",
   "metadata": {},
   "source": [
    "# 2. one-hot编码"
   ]
  },
  {
   "cell_type": "markdown",
   "metadata": {},
   "source": [
    "比较非标准one-hot（总和为1，但是数组中的值不是1或0）为标签的数据进行交叉熵计算时与one-hot编码的差异"
   ]
  },
  {
   "cell_type": "code",
   "execution_count": 8,
   "metadata": {},
   "outputs": [
    {
     "name": "stdout",
     "output_type": "stream",
     "text": [
      "rel4= [2.1721554 2.7696736] \n",
      "\n"
     ]
    }
   ],
   "source": [
    "#标签总概率为1\n",
    "labels = [[0.4,0.1,0.5],[0.3,0.6,0.1]]\n",
    "result4 = tf.nn.softmax_cross_entropy_with_logits(labels=labels, logits=logits)\n",
    "with tf.Session() as sess:\n",
    "    print (\"rel4=\",sess.run(result4),\"\\n\") "
   ]
  },
  {
   "cell_type": "markdown",
   "metadata": {},
   "source": [
    "从结果可以看出，非标准one-hot的label和logits之间的交叉熵之间的差异比标准one-hot小，说明非标准one-hot无法较好的表达分类正确和分类错误的交叉熵之间的差异"
   ]
  },
  {
   "cell_type": "markdown",
   "metadata": {},
   "source": [
    "# 3. sparse交叉熵"
   ]
  },
  {
   "cell_type": "markdown",
   "metadata": {},
   "source": [
    "sparse_softmax_cross_entropy_with_logits针对非标准one-hot编码设计，可以对非标准one-hot计算交叉熵，解决上面的问题"
   ]
  },
  {
   "cell_type": "code",
   "execution_count": 11,
   "metadata": {},
   "outputs": [
    {
     "name": "stdout",
     "output_type": "stream",
     "text": [
      "result5= [0.02215516 3.0996735 ] \n",
      "\n"
     ]
    }
   ],
   "source": [
    "#sparse\n",
    "labels = [2,1] #其实是0 1 2 三个类。等价 第一行 001 第二行 010，和原始标签相同\n",
    "result5 = tf.nn.sparse_softmax_cross_entropy_with_logits(labels=labels, logits=logits)\n",
    "with tf.Session() as sess:\n",
    "    print (\"result5=\",sess.run(result5),\"\\n\")"
   ]
  },
  {
   "cell_type": "markdown",
   "metadata": {},
   "source": [
    "result5和result1相同，说明sparse交叉熵已经包含将非标准one-hot转化为标砖one-hot的操作"
   ]
  },
  {
   "cell_type": "markdown",
   "metadata": {},
   "source": [
    "# 4. 计算loss"
   ]
  },
  {
   "cell_type": "code",
   "execution_count": 13,
   "metadata": {},
   "outputs": [
    {
     "name": "stdout",
     "output_type": "stream",
     "text": [
      "loss= 1.5609143\n",
      "loss2= 1.5609144\n"
     ]
    }
   ],
   "source": [
    "loss=tf.reduce_mean(result1)\n",
    "with tf.Session() as sess:\n",
    "    print (\"loss=\",sess.run(loss))\n",
    "    \n",
    "labels = [[0,0,1],[0,1,0]]    \n",
    "# -tf.reduce_sum(labels * tf.log(logits_scaled),1)等价于softmax_cross_entropy_with_logits\n",
    "loss2 = tf.reduce_mean(-tf.reduce_sum(labels * tf.log(logits_scaled),1) )\n",
    "with tf.Session() as sess:\n",
    "    print (\"loss2=\",sess.run(loss2))"
   ]
  }
 ],
 "metadata": {
  "kernelspec": {
   "display_name": "TensorFlow-GPU",
   "language": "python",
   "name": "tf-gpu"
  },
  "language_info": {
   "codemirror_mode": {
    "name": "ipython",
    "version": 3
   },
   "file_extension": ".py",
   "mimetype": "text/x-python",
   "name": "python",
   "nbconvert_exporter": "python",
   "pygments_lexer": "ipython3",
   "version": "3.7.3"
  }
 },
 "nbformat": 4,
 "nbformat_minor": 2
}
