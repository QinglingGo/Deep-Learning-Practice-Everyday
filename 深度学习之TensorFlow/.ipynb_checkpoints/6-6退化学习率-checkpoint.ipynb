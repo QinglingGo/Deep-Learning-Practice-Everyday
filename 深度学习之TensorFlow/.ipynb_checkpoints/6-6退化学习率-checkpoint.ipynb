{
 "cells": [
  {
   "cell_type": "code",
   "execution_count": 1,
   "metadata": {},
   "outputs": [],
   "source": [
    "import tensorflow as tf"
   ]
  },
  {
   "cell_type": "markdown",
   "metadata": {},
   "source": [
    "使用global_step标记循环次数，从initial_learning_rate开始，每10次循环衰减0.9的速度进行退化"
   ]
  },
  {
   "cell_type": "code",
   "execution_count": 2,
   "metadata": {},
   "outputs": [
    {
     "name": "stdout",
     "output_type": "stream",
     "text": [
      "WARNING:tensorflow:From /home/hu/anaconda3/envs/tf-gpu/lib/python3.7/site-packages/tensorflow/python/framework/op_def_library.py:263: colocate_with (from tensorflow.python.framework.ops) is deprecated and will be removed in a future version.\n",
      "Instructions for updating:\n",
      "Colocations handled automatically by placer.\n"
     ]
    }
   ],
   "source": [
    "global_step = tf.Variable(0, trainable=False)\n",
    "initial_learning_rate = 0.1 #初始学习率\n",
    "learning_rate = tf.train.exponential_decay(initial_learning_rate,\n",
    "                                           global_step,\n",
    "                                           decay_steps=10,decay_rate=0.9)\n",
    "opt = tf.train.GradientDescentOptimizer(learning_rate)\n",
    "add_global = global_step.assign_add(1)"
   ]
  },
  {
   "cell_type": "code",
   "execution_count": 4,
   "metadata": {},
   "outputs": [
    {
     "name": "stdout",
     "output_type": "stream",
     "text": [
      "0.1\n",
      "1 0.09895193\n",
      "2 0.09791484\n",
      "3 0.09688862\n",
      "4 0.095873155\n",
      "5 0.094868325\n",
      "6 0.09387404\n",
      "7 0.092890166\n",
      "8 0.09191661\n",
      "9 0.09095325\n",
      "10 0.089999996\n",
      "11 0.08905673\n",
      "12 0.088123344\n",
      "13 0.08719975\n",
      "14 0.08628584\n",
      "15 0.0853815\n",
      "16 0.084486626\n",
      "17 0.08360115\n",
      "18 0.08272495\n",
      "19 0.08185792\n",
      "20 0.08099999\n",
      "21 0.08015105\n"
     ]
    }
   ],
   "source": [
    "with tf.Session() as sess:\n",
    "    tf.global_variables_initializer().run()\n",
    "    print(sess.run(learning_rate))\n",
    "    for i in range(21):\n",
    "        g, rate = sess.run([add_global, learning_rate])\n",
    "        print(g,rate)"
   ]
  },
  {
   "cell_type": "code",
   "execution_count": null,
   "metadata": {},
   "outputs": [],
   "source": []
  }
 ],
 "metadata": {
  "kernelspec": {
   "display_name": "TensorFlow-GPU",
   "language": "python",
   "name": "tf-gpu"
  },
  "language_info": {
   "codemirror_mode": {
    "name": "ipython",
    "version": 3
   },
   "file_extension": ".py",
   "mimetype": "text/x-python",
   "name": "python",
   "nbconvert_exporter": "python",
   "pygments_lexer": "ipython3",
   "version": "3.7.3"
  }
 },
 "nbformat": 4,
 "nbformat_minor": 2
}
