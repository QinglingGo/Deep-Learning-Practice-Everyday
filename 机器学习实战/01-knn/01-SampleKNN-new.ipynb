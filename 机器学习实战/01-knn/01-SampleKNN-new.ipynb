{
 "cells": [
  {
   "cell_type": "code",
   "execution_count": 1,
   "metadata": {},
   "outputs": [],
   "source": [
    "import numpy as np\n",
    "import operator\n",
    "import collections"
   ]
  },
  {
   "cell_type": "code",
   "execution_count": 2,
   "metadata": {},
   "outputs": [],
   "source": [
    "def createDataSet():\n",
    "    group = np.array([[1,101],[5,89],[108,5],[115,8]])\n",
    "    labels = ['Love Story', 'Love Story', 'Action Movie', 'Action Movie']\n",
    "    return  group, labels"
   ]
  },
  {
   "cell_type": "code",
   "execution_count": 3,
   "metadata": {},
   "outputs": [
    {
     "name": "stdout",
     "output_type": "stream",
     "text": [
      "[[  1 101]\n",
      " [  5  89]\n",
      " [108   5]\n",
      " [115   8]]\n",
      "['Love Story', 'Love Story', 'Action Movie', 'Action Movie']\n"
     ]
    }
   ],
   "source": [
    "group, labels = createDataSet()\n",
    "print(group)\n",
    "print(labels)"
   ]
  },
  {
   "cell_type": "code",
   "execution_count": 4,
   "metadata": {},
   "outputs": [],
   "source": [
    "test = [101,20]"
   ]
  },
  {
   "cell_type": "code",
   "execution_count": 8,
   "metadata": {},
   "outputs": [
    {
     "name": "stdout",
     "output_type": "stream",
     "text": [
      "[[100 -81]\n",
      " [ 96 -69]\n",
      " [ -7  15]\n",
      " [-14  12]]\n",
      "[128.68954892 118.22436297  16.55294536  18.43908891]\n"
     ]
    }
   ],
   "source": [
    "print(test - group)\n",
    "dist = np.sum((test - group)**2, axis = 1)**0.5\n",
    "print(dist)"
   ]
  },
  {
   "cell_type": "code",
   "execution_count": 10,
   "metadata": {},
   "outputs": [
    {
     "name": "stdout",
     "output_type": "stream",
     "text": [
      "[2 3 1]\n",
      "['Action Movie', 'Action Movie', 'Love Story']\n"
     ]
    }
   ],
   "source": [
    "k = 3\n",
    "print(dist.argsort()[0 : k])\n",
    "k_labels = [labels[index] for index in dist.argsort()[0 : k]]\n",
    "print(k_labels)"
   ]
  },
  {
   "cell_type": "code",
   "execution_count": 14,
   "metadata": {},
   "outputs": [
    {
     "name": "stdout",
     "output_type": "stream",
     "text": [
      "Action Movie\n"
     ]
    }
   ],
   "source": [
    "#  most_common([n])返回一个列表，提供 n 个频率最高的元素和计数\n",
    "label = collections.Counter(k_labels).most_common(1)[0][0]\n",
    "print(label)"
   ]
  }
 ],
 "metadata": {
  "kernelspec": {
   "display_name": "TensorFlow-GPU",
   "language": "python",
   "name": "tf-gpu"
  },
  "language_info": {
   "codemirror_mode": {
    "name": "ipython",
    "version": 3
   },
   "file_extension": ".py",
   "mimetype": "text/x-python",
   "name": "python",
   "nbconvert_exporter": "python",
   "pygments_lexer": "ipython3",
   "version": "3.7.3"
  }
 },
 "nbformat": 4,
 "nbformat_minor": 2
}
