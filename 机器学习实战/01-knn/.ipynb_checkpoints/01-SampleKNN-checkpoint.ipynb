{
 "cells": [
  {
   "cell_type": "code",
   "execution_count": 33,
   "metadata": {},
   "outputs": [],
   "source": [
    "import numpy as np\n",
    "import operator"
   ]
  },
  {
   "cell_type": "code",
   "execution_count": 34,
   "metadata": {},
   "outputs": [],
   "source": [
    "# 建立数据\n",
    "def createDataSet():\n",
    "    group = np.array([[1,101],[5,89],[108,5],[115,8]])\n",
    "    labels = ['Love Story', 'Love Story', 'Action Movie', 'Action Movie']\n",
    "    return group, labels"
   ]
  },
  {
   "cell_type": "code",
   "execution_count": 37,
   "metadata": {},
   "outputs": [
    {
     "name": "stdout",
     "output_type": "stream",
     "text": [
      "(4, 2)\n",
      "[[  1 101]\n",
      " [  5  89]\n",
      " [108   5]\n",
      " [115   8]]\n",
      "['Love Story', 'Love Story', 'Action Movie', 'Action Movie']\n"
     ]
    }
   ],
   "source": [
    "group, labels = createDataSet()\n",
    "print(group)\n",
    "print(labels)"
   ]
  },
  {
   "cell_type": "code",
   "execution_count": 12,
   "metadata": {},
   "outputs": [],
   "source": [
    "# 测试数据\n",
    "test = [101,20]"
   ]
  },
  {
   "cell_type": "code",
   "execution_count": 44,
   "metadata": {},
   "outputs": [
    {
     "name": "stdout",
     "output_type": "stream",
     "text": [
      "[[101  20]\n",
      " [101  20]\n",
      " [101  20]\n",
      " [101  20]]\n",
      "[[100 -81]\n",
      " [ 96 -69]\n",
      " [ -7  15]\n",
      " [-14  12]]\n"
     ]
    }
   ],
   "source": [
    "#np.tile()函数将测试数据平铺成和原始数据一致的格式\n",
    "Mat = np.tile(test, (group.shape[0], 1)) \n",
    "print(Mat)\n",
    "\n",
    "#diffMat计算测试数据和每一类数据之间的差\n",
    "diffMat = Mat - group\n",
    "print(diffMat)"
   ]
  },
  {
   "cell_type": "code",
   "execution_count": 18,
   "metadata": {},
   "outputs": [
    {
     "name": "stdout",
     "output_type": "stream",
     "text": [
      "[[10000  6561]\n",
      " [ 9216  4761]\n",
      " [   49   225]\n",
      " [  196   144]]\n"
     ]
    }
   ],
   "source": [
    "# sqDiffMat将差值平方\n",
    "sqDiffMat = diffMat**2\n",
    "print(sqDiffMat)"
   ]
  },
  {
   "cell_type": "code",
   "execution_count": 45,
   "metadata": {},
   "outputs": [
    {
     "name": "stdout",
     "output_type": "stream",
     "text": [
      "[16561 13977   274   340]\n"
     ]
    }
   ],
   "source": [
    "# sqDistances将每一类的差值求和，axis = 1表示横向相加， axis= 0表示纵向相加\n",
    "sqDistances = sqDiffMat.sum(axis = 1)\n",
    "print(sqDistances)"
   ]
  },
  {
   "cell_type": "code",
   "execution_count": 25,
   "metadata": {},
   "outputs": [
    {
     "name": "stdout",
     "output_type": "stream",
     "text": [
      "[128.68954892 118.22436297  16.55294536  18.43908891]\n"
     ]
    }
   ],
   "source": [
    "# 将差值开方，得到距离\n",
    "distances = sqDistances**0.5\n",
    "print(distances)"
   ]
  },
  {
   "cell_type": "code",
   "execution_count": 48,
   "metadata": {},
   "outputs": [
    {
     "name": "stdout",
     "output_type": "stream",
     "text": [
      "[2 3 1 0]\n"
     ]
    }
   ],
   "source": [
    "# argsort()将distances矩阵的值按照从小到大进行排序，返回的是每个值在矩阵中的index\n",
    "sortedDistIndices = distances.argsort()\n",
    "print(sortedDistIndices)"
   ]
  },
  {
   "cell_type": "code",
   "execution_count": 56,
   "metadata": {},
   "outputs": [
    {
     "name": "stdout",
     "output_type": "stream",
     "text": [
      "Action Movie\n",
      "{'Action Movie': 1}\n",
      "Action Movie\n",
      "{'Action Movie': 2}\n",
      "Love Story\n",
      "{'Action Movie': 2, 'Love Story': 1}\n"
     ]
    }
   ],
   "source": [
    "classCount = {}\n",
    "# 确定K近邻的值\n",
    "k = 3\n",
    "\n",
    "for i in range(k):\n",
    "    # 按照排序的索引值，将lables中的元素存入字典中\n",
    "    voteIlabel = labels[sortedDistIndices[i]]\n",
    "    print(voteIlabel)\n",
    "    # 在字典中索引label值，如果没有则返回0，有则值+1\n",
    "    classCount[voteIlabel] = classCount.get(voteIlabel,0) + 1\n",
    "    print(classCount)"
   ]
  },
  {
   "cell_type": "code",
   "execution_count": 61,
   "metadata": {},
   "outputs": [
    {
     "name": "stdout",
     "output_type": "stream",
     "text": [
      "dict_items([('Action Movie', 2), ('Love Story', 1)])\n",
      "Action Movie\n"
     ]
    }
   ],
   "source": [
    "print(classCount.items())\n",
    "# 排序对象：classCount.items()\n",
    "# 排序依据：operator.itemgetter(1)表示取待排对象的第二个值作为排序依据（从0开始，所以1表示第二个值）\n",
    "# reverse = True 表示降序排列（默认是按照升序排列）\n",
    "sortedClassCount = sorted(classCount.items(),key = operator.itemgetter(1),reverse=True)\n",
    "print(sortedClassCount[0][0])"
   ]
  }
 ],
 "metadata": {
  "kernelspec": {
   "display_name": "TensorFlow-GPU",
   "language": "python",
   "name": "tf-gpu"
  },
  "language_info": {
   "codemirror_mode": {
    "name": "ipython",
    "version": 3
   },
   "file_extension": ".py",
   "mimetype": "text/x-python",
   "name": "python",
   "nbconvert_exporter": "python",
   "pygments_lexer": "ipython3",
   "version": "3.7.3"
  }
 },
 "nbformat": 4,
 "nbformat_minor": 2
}
