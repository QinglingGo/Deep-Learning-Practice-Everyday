{
 "cells": [
  {
   "cell_type": "markdown",
   "metadata": {},
   "source": [
    "# 使用预训练的卷积神经网络\n",
    "\n",
    "借助已经在大型数据集上训练良好CNN，帮助解决小型数据集无法充分学习的问题。其中有2种方法：特征提取和微调模型。\n",
    "\n",
    "## 1. 特征提取\n",
    "\n",
    "卷积神经网络主要由以下两大部分构成：\n",
    "\n",
    "__卷积基:__ 由一系列池化层和卷积层构成\n",
    "\n",
    "__密集连接分类器:__ 针对分类任务设计的由一系列全连接网络构成的分类器\n",
    "\n",
    "特征提取就是取出之前训练好的网络的卷积基，在上面运行新的数据，然后训练一个新的密集连接分类器。\n",
    "\n",
    "使用VGG16模型作为卷积基进行研究。"
   ]
  },
  {
   "cell_type": "code",
   "execution_count": 1,
   "metadata": {},
   "outputs": [
    {
     "name": "stderr",
     "output_type": "stream",
     "text": [
      "Using TensorFlow backend.\n"
     ]
    },
    {
     "name": "stdout",
     "output_type": "stream",
     "text": [
      "WARNING:tensorflow:From /home/hu/anaconda3/envs/tf-gpu/lib/python3.7/site-packages/tensorflow/python/framework/op_def_library.py:263: colocate_with (from tensorflow.python.framework.ops) is deprecated and will be removed in a future version.\n",
      "Instructions for updating:\n",
      "Colocations handled automatically by placer.\n",
      "Downloading data from https://github.com/fchollet/deep-learning-models/releases/download/v0.1/vgg16_weights_tf_dim_ordering_tf_kernels_notop.h5\n",
      "58892288/58889256 [==============================] - 34s 1us/step\n"
     ]
    }
   ],
   "source": [
    "from keras.applications import VGG16\n",
    "\n",
    "conv_base = VGG16(weights='imagenet', # 指定模型初始化的权重检查点\n",
    "                  include_top=False, # 模型最后是否包含密集连接器，VGG16的默认连接器是针对imagenet的1000类输出，此处不需要\n",
    "                  input_shape=(150, 150, 3)) # 输入形状的张量"
   ]
  },
  {
   "cell_type": "code",
   "execution_count": 2,
   "metadata": {},
   "outputs": [
    {
     "name": "stdout",
     "output_type": "stream",
     "text": [
      "_________________________________________________________________\n",
      "Layer (type)                 Output Shape              Param #   \n",
      "=================================================================\n",
      "input_1 (InputLayer)         (None, 150, 150, 3)       0         \n",
      "_________________________________________________________________\n",
      "block1_conv1 (Conv2D)        (None, 150, 150, 64)      1792      \n",
      "_________________________________________________________________\n",
      "block1_conv2 (Conv2D)        (None, 150, 150, 64)      36928     \n",
      "_________________________________________________________________\n",
      "block1_pool (MaxPooling2D)   (None, 75, 75, 64)        0         \n",
      "_________________________________________________________________\n",
      "block2_conv1 (Conv2D)        (None, 75, 75, 128)       73856     \n",
      "_________________________________________________________________\n",
      "block2_conv2 (Conv2D)        (None, 75, 75, 128)       147584    \n",
      "_________________________________________________________________\n",
      "block2_pool (MaxPooling2D)   (None, 37, 37, 128)       0         \n",
      "_________________________________________________________________\n",
      "block3_conv1 (Conv2D)        (None, 37, 37, 256)       295168    \n",
      "_________________________________________________________________\n",
      "block3_conv2 (Conv2D)        (None, 37, 37, 256)       590080    \n",
      "_________________________________________________________________\n",
      "block3_conv3 (Conv2D)        (None, 37, 37, 256)       590080    \n",
      "_________________________________________________________________\n",
      "block3_pool (MaxPooling2D)   (None, 18, 18, 256)       0         \n",
      "_________________________________________________________________\n",
      "block4_conv1 (Conv2D)        (None, 18, 18, 512)       1180160   \n",
      "_________________________________________________________________\n",
      "block4_conv2 (Conv2D)        (None, 18, 18, 512)       2359808   \n",
      "_________________________________________________________________\n",
      "block4_conv3 (Conv2D)        (None, 18, 18, 512)       2359808   \n",
      "_________________________________________________________________\n",
      "block4_pool (MaxPooling2D)   (None, 9, 9, 512)         0         \n",
      "_________________________________________________________________\n",
      "block5_conv1 (Conv2D)        (None, 9, 9, 512)         2359808   \n",
      "_________________________________________________________________\n",
      "block5_conv2 (Conv2D)        (None, 9, 9, 512)         2359808   \n",
      "_________________________________________________________________\n",
      "block5_conv3 (Conv2D)        (None, 9, 9, 512)         2359808   \n",
      "_________________________________________________________________\n",
      "block5_pool (MaxPooling2D)   (None, 4, 4, 512)         0         \n",
      "=================================================================\n",
      "Total params: 14,714,688\n",
      "Trainable params: 14,714,688\n",
      "Non-trainable params: 0\n",
      "_________________________________________________________________\n"
     ]
    }
   ],
   "source": [
    "conv_base.summary()"
   ]
  },
  {
   "cell_type": "markdown",
   "metadata": {},
   "source": [
    "上表显示的是VGG16的卷积基结构，接下来需要在这个结构上添加密集连接分类器，以完成猫和狗的分类任务。\n",
    "\n",
    "有如下两种方式可以选择：\n",
    "\n",
    "__1.不使用数据增强的快速特征提取__\n",
    "\n",
    "在数据集上运行卷积基，将输出保存成numpy数组，然后将这个数组作为输入，训练独立的密集连接分类器中进行训练。\n",
    "\n",
    "__优点:__ 速度快，计算代价低，在每张图上只运行一次卷积基\n",
    "\n",
    "__缺点:__ 因为每张图只运行一次卷积基，所以无法进行数据增强\n",
    "\n",
    "__2.使用数据增强的特征提取__\n",
    "\n",
    "扩展已有的卷积基模型，在顶部添加密集连接分类器，然后在训练数据上端到端地运行整个模型。\n",
    "\n",
    "__优点:__　可以使用数据增强\n",
    "\n",
    "__缺点:__ 卷积基参与大量的运算，运算代价高"
   ]
  },
  {
   "cell_type": "markdown",
   "metadata": {},
   "source": [
    "### 1.1 不使用数据增强的快速特征提取"
   ]
  },
  {
   "cell_type": "code",
   "execution_count": 4,
   "metadata": {},
   "outputs": [
    {
     "name": "stdout",
     "output_type": "stream",
     "text": [
      "Found 2000 images belonging to 2 classes.\n",
      "Found 1000 images belonging to 2 classes.\n",
      "Found 1000 images belonging to 2 classes.\n"
     ]
    }
   ],
   "source": [
    "import os\n",
    "import numpy as np\n",
    "from keras.preprocessing.image import ImageDataGenerator\n",
    "\n",
    "base_dir = '/home/hu/Downloads/dogs-vs-cats_small'\n",
    "\n",
    "train_dir = os.path.join(base_dir, 'train')\n",
    "validation_dir = os.path.join(base_dir, 'validation')\n",
    "test_dir = os.path.join(base_dir, 'test')\n",
    "\n",
    "datagen = ImageDataGenerator(rescale=1./255) # 生成器不使用数据增强，只进行归一化\n",
    "batch_size = 20\n",
    "\n",
    "def extract_features(directory, sample_count):\n",
    "    features = np.zeros(shape=(sample_count, 4, 4, 512))\n",
    "    labels = np.zeros(shape=(sample_count))\n",
    "    generator = datagen.flow_from_directory(\n",
    "        directory,\n",
    "        target_size=(150, 150),\n",
    "        batch_size=batch_size,\n",
    "        class_mode='binary')\n",
    "    i = 0\n",
    "    for inputs_batch, labels_batch in generator:\n",
    "        # 将输入通过conv_base进行计算，最终从VGG16输出的是4, 4, 512的张量(参考VGG16的结构)\n",
    "        features_batch = conv_base.predict(inputs_batch)\n",
    "        features[i * batch_size : (i + 1) * batch_size] = features_batch\n",
    "        labels[i * batch_size : (i + 1) * batch_size] = labels_batch\n",
    "        i += 1\n",
    "        if i * batch_size >= sample_count:\n",
    "            # 因为生成器在循环时不断生成数据，所以必须在读完图像后终止循环\n",
    "            break\n",
    "    return features, labels\n",
    "\n",
    "train_features, train_labels = extract_features(train_dir, 2000)\n",
    "validation_features, validation_labels = extract_features(validation_dir, 1000)\n",
    "test_features, test_labels = extract_features(test_dir, 1000)"
   ]
  },
  {
   "cell_type": "code",
   "execution_count": 5,
   "metadata": {},
   "outputs": [],
   "source": [
    "train_features = np.reshape(train_features, (2000, 4 * 4 * 512))\n",
    "validation_features = np.reshape(validation_features, (1000, 4 * 4 * 512))\n",
    "test_features = np.reshape(test_features, (1000, 4 * 4 * 512))"
   ]
  },
  {
   "cell_type": "markdown",
   "metadata": {},
   "source": [
    "在得到VGG16的输出后，单独训练一个密集连接分类器："
   ]
  },
  {
   "cell_type": "code",
   "execution_count": 6,
   "metadata": {
    "scrolled": true
   },
   "outputs": [
    {
     "name": "stdout",
     "output_type": "stream",
     "text": [
      "WARNING:tensorflow:From /home/hu/anaconda3/envs/tf-gpu/lib/python3.7/site-packages/keras/backend/tensorflow_backend.py:3445: calling dropout (from tensorflow.python.ops.nn_ops) with keep_prob is deprecated and will be removed in a future version.\n",
      "Instructions for updating:\n",
      "Please use `rate` instead of `keep_prob`. Rate should be set to `rate = 1 - keep_prob`.\n",
      "WARNING:tensorflow:From /home/hu/anaconda3/envs/tf-gpu/lib/python3.7/site-packages/tensorflow/python/ops/math_ops.py:3066: to_int32 (from tensorflow.python.ops.math_ops) is deprecated and will be removed in a future version.\n",
      "Instructions for updating:\n",
      "Use tf.cast instead.\n",
      "Train on 2000 samples, validate on 1000 samples\n",
      "Epoch 1/30\n",
      "2000/2000 [==============================] - 1s 407us/step - loss: 0.6334 - acc: 0.6480 - val_loss: 0.4360 - val_acc: 0.8330\n",
      "Epoch 2/30\n",
      "2000/2000 [==============================] - 0s 207us/step - loss: 0.4269 - acc: 0.8035 - val_loss: 0.3589 - val_acc: 0.8540\n",
      "Epoch 3/30\n",
      "2000/2000 [==============================] - 0s 214us/step - loss: 0.3618 - acc: 0.8440 - val_loss: 0.3181 - val_acc: 0.8730\n",
      "Epoch 4/30\n",
      "2000/2000 [==============================] - 0s 204us/step - loss: 0.3107 - acc: 0.8725 - val_loss: 0.2990 - val_acc: 0.8940\n",
      "Epoch 5/30\n",
      "2000/2000 [==============================] - 0s 220us/step - loss: 0.2828 - acc: 0.8840 - val_loss: 0.2826 - val_acc: 0.8780\n",
      "Epoch 6/30\n",
      "2000/2000 [==============================] - 0s 212us/step - loss: 0.2574 - acc: 0.8990 - val_loss: 0.2663 - val_acc: 0.8860\n",
      "Epoch 7/30\n",
      "2000/2000 [==============================] - 0s 228us/step - loss: 0.2441 - acc: 0.9090 - val_loss: 0.2781 - val_acc: 0.8800\n",
      "Epoch 8/30\n",
      "2000/2000 [==============================] - 0s 225us/step - loss: 0.2279 - acc: 0.9110 - val_loss: 0.2744 - val_acc: 0.8820\n",
      "Epoch 9/30\n",
      "2000/2000 [==============================] - 0s 218us/step - loss: 0.2077 - acc: 0.9210 - val_loss: 0.2490 - val_acc: 0.9040\n",
      "Epoch 10/30\n",
      "2000/2000 [==============================] - 0s 206us/step - loss: 0.1996 - acc: 0.9260 - val_loss: 0.2486 - val_acc: 0.8950\n",
      "Epoch 11/30\n",
      "2000/2000 [==============================] - 0s 212us/step - loss: 0.1912 - acc: 0.9320 - val_loss: 0.2436 - val_acc: 0.8980\n",
      "Epoch 12/30\n",
      "2000/2000 [==============================] - 0s 197us/step - loss: 0.1771 - acc: 0.9385 - val_loss: 0.2466 - val_acc: 0.8950\n",
      "Epoch 13/30\n",
      "2000/2000 [==============================] - 0s 206us/step - loss: 0.1717 - acc: 0.9365 - val_loss: 0.2374 - val_acc: 0.9040\n",
      "Epoch 14/30\n",
      "2000/2000 [==============================] - 0s 215us/step - loss: 0.1635 - acc: 0.9410 - val_loss: 0.2401 - val_acc: 0.9010\n",
      "Epoch 15/30\n",
      "2000/2000 [==============================] - 0s 191us/step - loss: 0.1641 - acc: 0.9400 - val_loss: 0.2336 - val_acc: 0.9030\n",
      "Epoch 16/30\n",
      "2000/2000 [==============================] - 0s 199us/step - loss: 0.1481 - acc: 0.9485 - val_loss: 0.2335 - val_acc: 0.9020\n",
      "Epoch 17/30\n",
      "2000/2000 [==============================] - 0s 195us/step - loss: 0.1431 - acc: 0.9480 - val_loss: 0.2395 - val_acc: 0.9030\n",
      "Epoch 18/30\n",
      "2000/2000 [==============================] - 0s 214us/step - loss: 0.1381 - acc: 0.9510 - val_loss: 0.2347 - val_acc: 0.9020\n",
      "Epoch 19/30\n",
      "2000/2000 [==============================] - 0s 222us/step - loss: 0.1382 - acc: 0.9495 - val_loss: 0.2364 - val_acc: 0.9030\n",
      "Epoch 20/30\n",
      "2000/2000 [==============================] - 0s 229us/step - loss: 0.1236 - acc: 0.9555 - val_loss: 0.2326 - val_acc: 0.9030\n",
      "Epoch 21/30\n",
      "2000/2000 [==============================] - 0s 237us/step - loss: 0.1174 - acc: 0.9585 - val_loss: 0.2474 - val_acc: 0.8960\n",
      "Epoch 22/30\n",
      "2000/2000 [==============================] - 0s 205us/step - loss: 0.1182 - acc: 0.9580 - val_loss: 0.2383 - val_acc: 0.9050\n",
      "Epoch 23/30\n",
      "2000/2000 [==============================] - 0s 206us/step - loss: 0.1094 - acc: 0.9610 - val_loss: 0.2339 - val_acc: 0.9030\n",
      "Epoch 24/30\n",
      "2000/2000 [==============================] - 0s 209us/step - loss: 0.1053 - acc: 0.9650 - val_loss: 0.2366 - val_acc: 0.9010\n",
      "Epoch 25/30\n",
      "2000/2000 [==============================] - 0s 211us/step - loss: 0.1018 - acc: 0.9700 - val_loss: 0.2382 - val_acc: 0.9010\n",
      "Epoch 26/30\n",
      "2000/2000 [==============================] - 0s 216us/step - loss: 0.0946 - acc: 0.9665 - val_loss: 0.2356 - val_acc: 0.9010\n",
      "Epoch 27/30\n",
      "2000/2000 [==============================] - 0s 230us/step - loss: 0.0879 - acc: 0.9735 - val_loss: 0.2425 - val_acc: 0.9010\n",
      "Epoch 28/30\n",
      "2000/2000 [==============================] - 0s 219us/step - loss: 0.0909 - acc: 0.9720 - val_loss: 0.2407 - val_acc: 0.9020\n",
      "Epoch 29/30\n",
      "2000/2000 [==============================] - 0s 208us/step - loss: 0.0866 - acc: 0.9745 - val_loss: 0.2391 - val_acc: 0.9010\n",
      "Epoch 30/30\n",
      "2000/2000 [==============================] - 0s 207us/step - loss: 0.0837 - acc: 0.9755 - val_loss: 0.2617 - val_acc: 0.8980\n"
     ]
    }
   ],
   "source": [
    "from keras import models\n",
    "from keras import layers\n",
    "from keras import optimizers\n",
    "\n",
    "# 密集连接分类器\n",
    "model = models.Sequential()\n",
    "model.add(layers.Dense(256, activation='relu', input_dim=4 * 4 * 512))\n",
    "model.add(layers.Dropout(0.5))\n",
    "model.add(layers.Dense(1, activation='sigmoid'))\n",
    "\n",
    "model.compile(optimizer=optimizers.RMSprop(lr=2e-5),\n",
    "              loss='binary_crossentropy',\n",
    "              metrics=['acc'])\n",
    "\n",
    "history = model.fit(train_features, train_labels,\n",
    "                    epochs=30,\n",
    "                    batch_size=20,\n",
    "                    validation_data=(validation_features, validation_labels))"
   ]
  },
  {
   "cell_type": "markdown",
   "metadata": {},
   "source": [
    "绘制图像：\n",
    "\n",
    "可以发现验证集准确率提升到90%。虽然使用0.5的dropout，但是仍然存在过拟合现象。"
   ]
  },
  {
   "cell_type": "code",
   "execution_count": 8,
   "metadata": {},
   "outputs": [
    {
     "data": {
      "image/png": "[encoded data removed]",
      "text/plain": [
       "<Figure size 432x288 with 1 Axes>"
      ]
     },
     "metadata": {
      "needs_background": "light"
     },
     "output_type": "display_data"
    },
    {
     "data": {
      "image/png": "[encoded data removed]",
      "text/plain": [
       "<Figure size 432x288 with 1 Axes>"
      ]
     },
     "metadata": {
      "needs_background": "light"
     },
     "output_type": "display_data"
    }
   ],
   "source": [
    "import matplotlib.pyplot as plt\n",
    "\n",
    "acc = history.history['acc']\n",
    "val_acc = history.history['val_acc']\n",
    "loss = history.history['loss']\n",
    "val_loss = history.history['val_loss']\n",
    "\n",
    "epochs = range(len(acc))\n",
    "\n",
    "plt.plot(epochs, acc, 'bo', label='Training acc')\n",
    "plt.plot(epochs, val_acc, 'b', label='Validation acc')\n",
    "plt.title('Training and validation accuracy')\n",
    "plt.legend()\n",
    "\n",
    "plt.figure()\n",
    "\n",
    "plt.plot(epochs, loss, 'bo', label='Training loss')\n",
    "plt.plot(epochs, val_loss, 'b', label='Validation loss')\n",
    "plt.title('Training and validation loss')\n",
    "plt.legend()\n",
    "\n",
    "plt.show()"
   ]
  },
  {
   "cell_type": "markdown",
   "metadata": {},
   "source": [
    "### 1.2 使用数据增强的特征提取\n",
    "\n",
    "将conv_base和密集连接分类器一起构成新的CNN结构："
   ]
  },
  {
   "cell_type": "code",
   "execution_count": 9,
   "metadata": {},
   "outputs": [],
   "source": [
    "from keras import models\n",
    "from keras import layers\n",
    "\n",
    "model = models.Sequential()\n",
    "model.add(conv_base)\n",
    "model.add(layers.Flatten())\n",
    "model.add(layers.Dense(256, activation='relu'))\n",
    "model.add(layers.Dense(1, activation='sigmoid'))"
   ]
  },
  {
   "cell_type": "code",
   "execution_count": 10,
   "metadata": {},
   "outputs": [
    {
     "name": "stdout",
     "output_type": "stream",
     "text": [
      "_________________________________________________________________\n",
      "Layer (type)                 Output Shape              Param #   \n",
      "=================================================================\n",
      "vgg16 (Model)                (None, 4, 4, 512)         14714688  \n",
      "_________________________________________________________________\n",
      "flatten_1 (Flatten)          (None, 8192)              0         \n",
      "_________________________________________________________________\n",
      "dense_3 (Dense)              (None, 256)               2097408   \n",
      "_________________________________________________________________\n",
      "dense_4 (Dense)              (None, 1)                 257       \n",
      "=================================================================\n",
      "Total params: 16,812,353\n",
      "Trainable params: 16,812,353\n",
      "Non-trainable params: 0\n",
      "_________________________________________________________________\n"
     ]
    }
   ],
   "source": [
    "model.summary()"
   ]
  },
  {
   "cell_type": "markdown",
   "metadata": {},
   "source": [
    "VGG16的参数非常多，因此需要冻结卷积基。在未冻结之前，有30个weights需要被训练:"
   ]
  },
  {
   "cell_type": "code",
   "execution_count": 11,
   "metadata": {},
   "outputs": [
    {
     "name": "stdout",
     "output_type": "stream",
     "text": [
      "This is the number of trainable weights before freezing the conv base: 30\n"
     ]
    }
   ],
   "source": [
    "print('This is the number of trainable weights '\n",
    "      'before freezing the conv base:', len(model.trainable_weights))"
   ]
  },
  {
   "cell_type": "markdown",
   "metadata": {},
   "source": [
    "冻结的方式是将trainable参数设置为false，冻结后只有4个weights需要被训练:"
   ]
  },
  {
   "cell_type": "code",
   "execution_count": 12,
   "metadata": {},
   "outputs": [],
   "source": [
    "conv_base.trainable = False"
   ]
  },
  {
   "cell_type": "code",
   "execution_count": 13,
   "metadata": {},
   "outputs": [
    {
     "name": "stdout",
     "output_type": "stream",
     "text": [
      "This is the number of trainable weights after freezing the conv base: 4\n"
     ]
    }
   ],
   "source": [
    "print('This is the number of trainable weights '\n",
    "      'after freezing the conv base:', len(model.trainable_weights))"
   ]
  },
  {
   "cell_type": "markdown",
   "metadata": {},
   "source": [
    "此时可以使用__数据增强__来扩充训练数据，然后对网络进行端到端的训练："
   ]
  },
  {
   "cell_type": "code",
   "execution_count": 14,
   "metadata": {
    "scrolled": true
   },
   "outputs": [
    {
     "name": "stdout",
     "output_type": "stream",
     "text": [
      "Found 2000 images belonging to 2 classes.\n",
      "Found 1000 images belonging to 2 classes.\n",
      "Epoch 1/30\n",
      " - 18s - loss: 0.5917 - acc: 0.7050 - val_loss: 0.4560 - val_acc: 0.8070\n",
      "Epoch 2/30\n",
      " - 17s - loss: 0.4901 - acc: 0.7785 - val_loss: 0.3862 - val_acc: 0.8460\n",
      "Epoch 3/30\n",
      " - 17s - loss: 0.4434 - acc: 0.8020 - val_loss: 0.3530 - val_acc: 0.8390\n",
      "Epoch 4/30\n",
      " - 17s - loss: 0.4103 - acc: 0.8195 - val_loss: 0.3100 - val_acc: 0.8690\n",
      "Epoch 5/30\n",
      " - 16s - loss: 0.3868 - acc: 0.8345 - val_loss: 0.2986 - val_acc: 0.8740\n",
      "Epoch 6/30\n",
      " - 16s - loss: 0.3816 - acc: 0.8325 - val_loss: 0.2891 - val_acc: 0.8780\n",
      "Epoch 7/30\n",
      " - 16s - loss: 0.3659 - acc: 0.8360 - val_loss: 0.2809 - val_acc: 0.8860\n",
      "Epoch 8/30\n",
      " - 16s - loss: 0.3506 - acc: 0.8495 - val_loss: 0.2755 - val_acc: 0.8870\n",
      "Epoch 9/30\n",
      " - 16s - loss: 0.3414 - acc: 0.8560 - val_loss: 0.2677 - val_acc: 0.8870\n",
      "Epoch 10/30\n",
      " - 16s - loss: 0.3379 - acc: 0.8475 - val_loss: 0.2693 - val_acc: 0.8820\n",
      "Epoch 11/30\n",
      " - 16s - loss: 0.3386 - acc: 0.8540 - val_loss: 0.2625 - val_acc: 0.8860\n",
      "Epoch 12/30\n",
      " - 16s - loss: 0.3401 - acc: 0.8490 - val_loss: 0.2595 - val_acc: 0.8950\n",
      "Epoch 13/30\n",
      " - 16s - loss: 0.3365 - acc: 0.8530 - val_loss: 0.2556 - val_acc: 0.8970\n",
      "Epoch 14/30\n",
      " - 16s - loss: 0.3173 - acc: 0.8655 - val_loss: 0.2566 - val_acc: 0.8970\n",
      "Epoch 15/30\n",
      " - 16s - loss: 0.3227 - acc: 0.8680 - val_loss: 0.2493 - val_acc: 0.9010\n",
      "Epoch 16/30\n",
      " - 16s - loss: 0.3107 - acc: 0.8645 - val_loss: 0.2558 - val_acc: 0.9000\n",
      "Epoch 17/30\n",
      " - 16s - loss: 0.3041 - acc: 0.8700 - val_loss: 0.2472 - val_acc: 0.9010\n",
      "Epoch 18/30\n",
      " - 16s - loss: 0.3183 - acc: 0.8605 - val_loss: 0.2412 - val_acc: 0.9010\n",
      "Epoch 19/30\n",
      " - 16s - loss: 0.3015 - acc: 0.8650 - val_loss: 0.2463 - val_acc: 0.9050\n",
      "Epoch 20/30\n",
      " - 16s - loss: 0.3007 - acc: 0.8735 - val_loss: 0.2421 - val_acc: 0.9010\n",
      "Epoch 21/30\n",
      " - 16s - loss: 0.3078 - acc: 0.8625 - val_loss: 0.2395 - val_acc: 0.9000\n",
      "Epoch 22/30\n",
      " - 16s - loss: 0.3039 - acc: 0.8725 - val_loss: 0.2394 - val_acc: 0.9010\n",
      "Epoch 23/30\n",
      " - 16s - loss: 0.2935 - acc: 0.8780 - val_loss: 0.2413 - val_acc: 0.9010\n",
      "Epoch 24/30\n",
      " - 16s - loss: 0.2987 - acc: 0.8690 - val_loss: 0.2453 - val_acc: 0.9040\n",
      "Epoch 25/30\n",
      " - 16s - loss: 0.2975 - acc: 0.8640 - val_loss: 0.2498 - val_acc: 0.9030\n",
      "Epoch 26/30\n",
      " - 16s - loss: 0.2898 - acc: 0.8735 - val_loss: 0.2435 - val_acc: 0.9020\n",
      "Epoch 27/30\n",
      " - 17s - loss: 0.2853 - acc: 0.8775 - val_loss: 0.2480 - val_acc: 0.9060\n",
      "Epoch 28/30\n",
      " - 16s - loss: 0.2947 - acc: 0.8655 - val_loss: 0.2414 - val_acc: 0.9030\n",
      "Epoch 29/30\n",
      " - 16s - loss: 0.2968 - acc: 0.8705 - val_loss: 0.2527 - val_acc: 0.9000\n",
      "Epoch 30/30\n",
      " - 16s - loss: 0.2845 - acc: 0.8775 - val_loss: 0.2499 - val_acc: 0.8940\n"
     ]
    }
   ],
   "source": [
    "from keras.preprocessing.image import ImageDataGenerator\n",
    "\n",
    "# 对训练集进行数据增强\n",
    "train_datagen = ImageDataGenerator(\n",
    "      rescale=1./255,\n",
    "      rotation_range=40,\n",
    "      width_shift_range=0.2,\n",
    "      height_shift_range=0.2,\n",
    "      shear_range=0.2,\n",
    "      zoom_range=0.2,\n",
    "      horizontal_flip=True,\n",
    "      fill_mode='nearest')\n",
    "\n",
    "# 注意：对测试集不能进行数据增强！！！\n",
    "test_datagen = ImageDataGenerator(rescale=1./255)\n",
    "\n",
    "train_generator = train_datagen.flow_from_directory(\n",
    "        train_dir,\n",
    "        target_size=(150, 150),\n",
    "        batch_size=20,\n",
    "        # 因为使用binary_crossentropy作为损失函数，所以要使用binary的标签\n",
    "        class_mode='binary')\n",
    "\n",
    "validation_generator = test_datagen.flow_from_directory(\n",
    "        validation_dir,\n",
    "        target_size=(150, 150),\n",
    "        batch_size=20,\n",
    "        class_mode='binary')\n",
    "\n",
    "model.compile(loss='binary_crossentropy',\n",
    "              optimizer=optimizers.RMSprop(lr=2e-5),\n",
    "              metrics=['acc'])\n",
    "\n",
    "history = model.fit_generator(\n",
    "      train_generator,\n",
    "      steps_per_epoch=100,\n",
    "      epochs=30,\n",
    "      validation_data=validation_generator,\n",
    "      validation_steps=50,\n",
    "      verbose=2)"
   ]
  },
  {
   "cell_type": "code",
   "execution_count": 15,
   "metadata": {},
   "outputs": [],
   "source": [
    "model.save('cats_and_dogs_small_3.h5')"
   ]
  },
  {
   "cell_type": "code",
   "execution_count": 16,
   "metadata": {},
   "outputs": [
    {
     "data": {
      "image/png": "[encoded data removed]",
      "text/plain": [
       "<Figure size 432x288 with 1 Axes>"
      ]
     },
     "metadata": {
      "needs_background": "light"
     },
     "output_type": "display_data"
    },
    {
     "data": {
      "image/png": "[encoded data removed]",
      "text/plain": [
       "<Figure size 432x288 with 1 Axes>"
      ]
     },
     "metadata": {
      "needs_background": "light"
     },
     "output_type": "display_data"
    }
   ],
   "source": [
    "acc = history.history['acc']\n",
    "val_acc = history.history['val_acc']\n",
    "loss = history.history['loss']\n",
    "val_loss = history.history['val_loss']\n",
    "\n",
    "epochs = range(len(acc))\n",
    "\n",
    "plt.plot(epochs, acc, 'bo', label='Training acc')\n",
    "plt.plot(epochs, val_acc, 'b', label='Validation acc')\n",
    "plt.title('Training and validation accuracy')\n",
    "plt.legend()\n",
    "\n",
    "plt.figure()\n",
    "\n",
    "plt.plot(epochs, loss, 'bo', label='Training loss')\n",
    "plt.plot(epochs, val_loss, 'b', label='Validation loss')\n",
    "plt.title('Training and validation loss')\n",
    "plt.legend()\n",
    "\n",
    "plt.show()"
   ]
  },
  {
   "cell_type": "markdown",
   "metadata": {},
   "source": [
    "从上图可以看出，验证集上的效果比之前的几种方法都要好。说明使用数据增强和预训练网络可以有效的提升小样本问题的准确率。"
   ]
  },
  {
   "cell_type": "markdown",
   "metadata": {},
   "source": [
    "## 2. 微调模型\n",
    "\n",
    "微调是指将其顶部的几层解冻，并将解冻的层和新增加的部分进行联合训练。具体步骤：\n",
    "\n",
    "1. 在已经训练好的卷积基上添加自定义网络\n",
    "\n",
    "2. 冻结基网络\n",
    "\n",
    "3. 训练所添加的部分\n",
    "\n",
    "4. 解冻基网络的部分层\n",
    "\n",
    "5. 联合训练解冻层和添加的自定义网络"
   ]
  },
  {
   "cell_type": "code",
   "execution_count": 17,
   "metadata": {},
   "outputs": [
    {
     "name": "stdout",
     "output_type": "stream",
     "text": [
      "_________________________________________________________________\n",
      "Layer (type)                 Output Shape              Param #   \n",
      "=================================================================\n",
      "input_1 (InputLayer)         (None, 150, 150, 3)       0         \n",
      "_________________________________________________________________\n",
      "block1_conv1 (Conv2D)        (None, 150, 150, 64)      1792      \n",
      "_________________________________________________________________\n",
      "block1_conv2 (Conv2D)        (None, 150, 150, 64)      36928     \n",
      "_________________________________________________________________\n",
      "block1_pool (MaxPooling2D)   (None, 75, 75, 64)        0         \n",
      "_________________________________________________________________\n",
      "block2_conv1 (Conv2D)        (None, 75, 75, 128)       73856     \n",
      "_________________________________________________________________\n",
      "block2_conv2 (Conv2D)        (None, 75, 75, 128)       147584    \n",
      "_________________________________________________________________\n",
      "block2_pool (MaxPooling2D)   (None, 37, 37, 128)       0         \n",
      "_________________________________________________________________\n",
      "block3_conv1 (Conv2D)        (None, 37, 37, 256)       295168    \n",
      "_________________________________________________________________\n",
      "block3_conv2 (Conv2D)        (None, 37, 37, 256)       590080    \n",
      "_________________________________________________________________\n",
      "block3_conv3 (Conv2D)        (None, 37, 37, 256)       590080    \n",
      "_________________________________________________________________\n",
      "block3_pool (MaxPooling2D)   (None, 18, 18, 256)       0         \n",
      "_________________________________________________________________\n",
      "block4_conv1 (Conv2D)        (None, 18, 18, 512)       1180160   \n",
      "_________________________________________________________________\n",
      "block4_conv2 (Conv2D)        (None, 18, 18, 512)       2359808   \n",
      "_________________________________________________________________\n",
      "block4_conv3 (Conv2D)        (None, 18, 18, 512)       2359808   \n",
      "_________________________________________________________________\n",
      "block4_pool (MaxPooling2D)   (None, 9, 9, 512)         0         \n",
      "_________________________________________________________________\n",
      "block5_conv1 (Conv2D)        (None, 9, 9, 512)         2359808   \n",
      "_________________________________________________________________\n",
      "block5_conv2 (Conv2D)        (None, 9, 9, 512)         2359808   \n",
      "_________________________________________________________________\n",
      "block5_conv3 (Conv2D)        (None, 9, 9, 512)         2359808   \n",
      "_________________________________________________________________\n",
      "block5_pool (MaxPooling2D)   (None, 4, 4, 512)         0         \n",
      "=================================================================\n",
      "Total params: 14,714,688\n",
      "Trainable params: 0\n",
      "Non-trainable params: 14,714,688\n",
      "_________________________________________________________________\n"
     ]
    }
   ],
   "source": [
    "conv_base.summary()"
   ]
  },
  {
   "cell_type": "markdown",
   "metadata": {},
   "source": [
    "参考上面的VGG16卷积基，将从block5_conv1层进行解冻，之前的层继续冻结，之后的层将参与训练。\n",
    "\n",
    "__微调顶部卷积层的原因：__\n",
    "\n",
    "1. 卷积基中更靠近底部的卷积层编码的是更加通用的可复用特征，而更靠近顶部的层编码的是更专业化的特征。微调顶部将帮助模型更适应特定的问题。\n",
    "\n",
    "2. 微调的层越多，训练的参数将越多，最终过拟合的风险越大。所以最好的选择是微调卷积基靠近顶部的网络层。"
   ]
  },
  {
   "cell_type": "code",
   "execution_count": 18,
   "metadata": {},
   "outputs": [],
   "source": [
    "conv_base.trainable = True\n",
    "\n",
    "set_trainable = False\n",
    "for layer in conv_base.layers:\n",
    "    if layer.name == 'block5_conv1':\n",
    "        set_trainable = True\n",
    "    if set_trainable:\n",
    "        layer.trainable = True\n",
    "    else:\n",
    "        layer.trainable = False"
   ]
  },
  {
   "cell_type": "code",
   "execution_count": 19,
   "metadata": {},
   "outputs": [
    {
     "name": "stdout",
     "output_type": "stream",
     "text": [
      "Epoch 1/100\n",
      "100/100 [==============================] - 18s 180ms/step - loss: 0.2874 - acc: 0.8765 - val_loss: 0.2530 - val_acc: 0.9070\n",
      "Epoch 2/100\n",
      "100/100 [==============================] - 17s 173ms/step - loss: 0.2493 - acc: 0.8940 - val_loss: 0.2292 - val_acc: 0.9110\n",
      "Epoch 3/100\n",
      "100/100 [==============================] - 17s 173ms/step - loss: 0.2412 - acc: 0.8950 - val_loss: 0.2064 - val_acc: 0.9200\n",
      "Epoch 4/100\n",
      "100/100 [==============================] - 17s 167ms/step - loss: 0.2133 - acc: 0.9110 - val_loss: 0.2536 - val_acc: 0.9070\n",
      "Epoch 5/100\n",
      "100/100 [==============================] - 16s 162ms/step - loss: 0.1999 - acc: 0.9130 - val_loss: 0.2266 - val_acc: 0.9170\n",
      "Epoch 6/100\n",
      "100/100 [==============================] - 17s 167ms/step - loss: 0.1993 - acc: 0.9195 - val_loss: 0.2007 - val_acc: 0.9170\n",
      "Epoch 7/100\n",
      "100/100 [==============================] - 18s 178ms/step - loss: 0.1957 - acc: 0.9170 - val_loss: 0.1747 - val_acc: 0.9270\n",
      "Epoch 8/100\n",
      "100/100 [==============================] - 17s 166ms/step - loss: 0.1721 - acc: 0.9335 - val_loss: 0.1878 - val_acc: 0.9240\n",
      "Epoch 9/100\n",
      "100/100 [==============================] - 17s 167ms/step - loss: 0.1715 - acc: 0.9265 - val_loss: 0.2052 - val_acc: 0.9240\n",
      "Epoch 10/100\n",
      "100/100 [==============================] - 17s 166ms/step - loss: 0.1519 - acc: 0.9350 - val_loss: 0.2239 - val_acc: 0.9000\n",
      "Epoch 11/100\n",
      "100/100 [==============================] - 17s 174ms/step - loss: 0.1606 - acc: 0.9345 - val_loss: 0.1799 - val_acc: 0.9290\n",
      "Epoch 12/100\n",
      "100/100 [==============================] - 17s 166ms/step - loss: 0.1364 - acc: 0.9455 - val_loss: 0.1822 - val_acc: 0.9320\n",
      "Epoch 13/100\n",
      "100/100 [==============================] - 17s 167ms/step - loss: 0.1340 - acc: 0.9485 - val_loss: 0.1863 - val_acc: 0.9260\n",
      "Epoch 14/100\n",
      "100/100 [==============================] - 17s 168ms/step - loss: 0.1312 - acc: 0.9455 - val_loss: 0.1850 - val_acc: 0.9300\n",
      "Epoch 15/100\n",
      "100/100 [==============================] - 17s 169ms/step - loss: 0.1335 - acc: 0.9485 - val_loss: 0.1646 - val_acc: 0.9370\n",
      "Epoch 16/100\n",
      "100/100 [==============================] - 17s 168ms/step - loss: 0.1185 - acc: 0.9535 - val_loss: 0.1795 - val_acc: 0.9330\n",
      "Epoch 17/100\n",
      "100/100 [==============================] - 17s 167ms/step - loss: 0.1075 - acc: 0.9550 - val_loss: 0.1916 - val_acc: 0.9320\n",
      "Epoch 18/100\n",
      "100/100 [==============================] - 17s 167ms/step - loss: 0.1047 - acc: 0.9560 - val_loss: 0.1817 - val_acc: 0.9390\n",
      "Epoch 19/100\n",
      "100/100 [==============================] - 17s 169ms/step - loss: 0.0949 - acc: 0.9635 - val_loss: 0.1950 - val_acc: 0.9290\n",
      "Epoch 20/100\n",
      "100/100 [==============================] - 17s 168ms/step - loss: 0.1073 - acc: 0.9610 - val_loss: 0.1700 - val_acc: 0.9370\n",
      "Epoch 21/100\n",
      "100/100 [==============================] - 17s 167ms/step - loss: 0.0958 - acc: 0.9655 - val_loss: 0.2040 - val_acc: 0.9260\n",
      "Epoch 22/100\n",
      "100/100 [==============================] - 17s 169ms/step - loss: 0.0826 - acc: 0.9660 - val_loss: 0.1810 - val_acc: 0.9430\n",
      "Epoch 23/100\n",
      "100/100 [==============================] - 17s 170ms/step - loss: 0.0961 - acc: 0.9660 - val_loss: 0.2074 - val_acc: 0.9280\n",
      "Epoch 24/100\n",
      "100/100 [==============================] - 17s 169ms/step - loss: 0.0737 - acc: 0.9740 - val_loss: 0.1928 - val_acc: 0.9380\n",
      "Epoch 25/100\n",
      "100/100 [==============================] - 17s 168ms/step - loss: 0.0873 - acc: 0.9670 - val_loss: 0.2287 - val_acc: 0.9240\n",
      "Epoch 26/100\n",
      "100/100 [==============================] - 17s 168ms/step - loss: 0.0681 - acc: 0.9785 - val_loss: 0.2010 - val_acc: 0.9320\n",
      "Epoch 27/100\n",
      "100/100 [==============================] - 17s 168ms/step - loss: 0.0903 - acc: 0.9650 - val_loss: 0.2147 - val_acc: 0.9290\n",
      "Epoch 28/100\n",
      "100/100 [==============================] - 16s 162ms/step - loss: 0.0769 - acc: 0.9710 - val_loss: 0.2275 - val_acc: 0.9240\n",
      "Epoch 29/100\n",
      "100/100 [==============================] - 16s 164ms/step - loss: 0.0737 - acc: 0.9710 - val_loss: 0.2259 - val_acc: 0.9300\n",
      "Epoch 30/100\n",
      "100/100 [==============================] - 16s 163ms/step - loss: 0.0718 - acc: 0.9725 - val_loss: 0.2086 - val_acc: 0.9370\n",
      "Epoch 31/100\n",
      "100/100 [==============================] - 16s 160ms/step - loss: 0.0619 - acc: 0.9790 - val_loss: 0.2169 - val_acc: 0.9320\n",
      "Epoch 32/100\n",
      "100/100 [==============================] - 16s 162ms/step - loss: 0.0762 - acc: 0.9710 - val_loss: 0.1679 - val_acc: 0.9370\n",
      "Epoch 33/100\n",
      "100/100 [==============================] - 16s 161ms/step - loss: 0.0629 - acc: 0.9780 - val_loss: 0.2014 - val_acc: 0.9330\n",
      "Epoch 34/100\n",
      "100/100 [==============================] - 16s 162ms/step - loss: 0.0602 - acc: 0.9780 - val_loss: 0.1911 - val_acc: 0.9370\n",
      "Epoch 35/100\n",
      "100/100 [==============================] - 16s 161ms/step - loss: 0.0650 - acc: 0.9770 - val_loss: 0.1849 - val_acc: 0.9380\n",
      "Epoch 36/100\n",
      "100/100 [==============================] - 18s 176ms/step - loss: 0.0674 - acc: 0.9725 - val_loss: 0.1870 - val_acc: 0.9340\n",
      "Epoch 37/100\n",
      "100/100 [==============================] - 16s 164ms/step - loss: 0.0607 - acc: 0.9790 - val_loss: 0.1926 - val_acc: 0.9340\n",
      "Epoch 38/100\n",
      "100/100 [==============================] - 16s 163ms/step - loss: 0.0441 - acc: 0.9870 - val_loss: 0.2398 - val_acc: 0.9300\n",
      "Epoch 39/100\n",
      "100/100 [==============================] - 16s 164ms/step - loss: 0.0622 - acc: 0.9775 - val_loss: 0.2083 - val_acc: 0.9350\n",
      "Epoch 40/100\n",
      "100/100 [==============================] - 16s 163ms/step - loss: 0.0490 - acc: 0.9810 - val_loss: 0.1775 - val_acc: 0.9350\n",
      "Epoch 41/100\n",
      "100/100 [==============================] - 16s 160ms/step - loss: 0.0511 - acc: 0.9825 - val_loss: 0.2992 - val_acc: 0.9250\n",
      "Epoch 42/100\n",
      "100/100 [==============================] - 16s 162ms/step - loss: 0.0489 - acc: 0.9850 - val_loss: 0.2174 - val_acc: 0.9350\n",
      "Epoch 43/100\n",
      "100/100 [==============================] - 16s 164ms/step - loss: 0.0562 - acc: 0.9785 - val_loss: 0.2514 - val_acc: 0.9280\n",
      "Epoch 44/100\n",
      "100/100 [==============================] - 16s 164ms/step - loss: 0.0494 - acc: 0.9845 - val_loss: 0.2548 - val_acc: 0.9340\n",
      "Epoch 45/100\n",
      "100/100 [==============================] - 16s 165ms/step - loss: 0.0481 - acc: 0.9865 - val_loss: 0.2346 - val_acc: 0.9390\n",
      "Epoch 46/100\n",
      "100/100 [==============================] - 16s 160ms/step - loss: 0.0446 - acc: 0.9825 - val_loss: 0.3275 - val_acc: 0.9250\n",
      "Epoch 47/100\n",
      "100/100 [==============================] - 16s 163ms/step - loss: 0.0366 - acc: 0.9880 - val_loss: 0.2387 - val_acc: 0.9350\n",
      "Epoch 48/100\n",
      "100/100 [==============================] - 16s 160ms/step - loss: 0.0374 - acc: 0.9845 - val_loss: 0.2110 - val_acc: 0.9410\n",
      "Epoch 49/100\n",
      "100/100 [==============================] - 16s 163ms/step - loss: 0.0441 - acc: 0.9830 - val_loss: 0.2118 - val_acc: 0.9370\n",
      "Epoch 50/100\n",
      "100/100 [==============================] - 16s 163ms/step - loss: 0.0394 - acc: 0.9880 - val_loss: 0.2099 - val_acc: 0.9410\n",
      "Epoch 51/100\n",
      "100/100 [==============================] - 16s 162ms/step - loss: 0.0353 - acc: 0.9875 - val_loss: 0.2965 - val_acc: 0.9240\n",
      "Epoch 52/100\n",
      "100/100 [==============================] - 16s 162ms/step - loss: 0.0457 - acc: 0.9825 - val_loss: 0.2140 - val_acc: 0.9390\n",
      "Epoch 53/100\n",
      "100/100 [==============================] - 16s 164ms/step - loss: 0.0389 - acc: 0.9890 - val_loss: 0.2284 - val_acc: 0.9350\n",
      "Epoch 54/100\n",
      "100/100 [==============================] - 17s 165ms/step - loss: 0.0363 - acc: 0.9865 - val_loss: 0.2352 - val_acc: 0.9370\n",
      "Epoch 55/100\n",
      "100/100 [==============================] - 16s 158ms/step - loss: 0.0403 - acc: 0.9880 - val_loss: 0.2124 - val_acc: 0.9330\n",
      "Epoch 56/100\n",
      "100/100 [==============================] - 17s 167ms/step - loss: 0.0412 - acc: 0.9845 - val_loss: 0.2509 - val_acc: 0.9380\n",
      "Epoch 57/100\n",
      "100/100 [==============================] - 17s 168ms/step - loss: 0.0297 - acc: 0.9895 - val_loss: 0.2046 - val_acc: 0.9430\n",
      "Epoch 58/100\n",
      "100/100 [==============================] - 16s 158ms/step - loss: 0.0264 - acc: 0.9885 - val_loss: 0.2499 - val_acc: 0.9340\n",
      "Epoch 59/100\n",
      "100/100 [==============================] - 16s 160ms/step - loss: 0.0328 - acc: 0.9870 - val_loss: 0.2492 - val_acc: 0.9390\n",
      "Epoch 60/100\n",
      "100/100 [==============================] - 16s 162ms/step - loss: 0.0354 - acc: 0.9875 - val_loss: 0.2944 - val_acc: 0.9220\n"
     ]
    },
    {
     "name": "stdout",
     "output_type": "stream",
     "text": [
      "Epoch 61/100\n",
      "100/100 [==============================] - 16s 162ms/step - loss: 0.0379 - acc: 0.9855 - val_loss: 0.3144 - val_acc: 0.9310\n",
      "Epoch 62/100\n",
      "100/100 [==============================] - 16s 165ms/step - loss: 0.0293 - acc: 0.9910 - val_loss: 0.3165 - val_acc: 0.9270\n",
      "Epoch 63/100\n",
      "100/100 [==============================] - 17s 171ms/step - loss: 0.0287 - acc: 0.9900 - val_loss: 0.2181 - val_acc: 0.9370\n",
      "Epoch 64/100\n",
      "100/100 [==============================] - 17s 167ms/step - loss: 0.0285 - acc: 0.9885 - val_loss: 0.2751 - val_acc: 0.9360\n",
      "Epoch 65/100\n",
      "100/100 [==============================] - 16s 161ms/step - loss: 0.0331 - acc: 0.9870 - val_loss: 0.2478 - val_acc: 0.9380\n",
      "Epoch 66/100\n",
      "100/100 [==============================] - 16s 163ms/step - loss: 0.0329 - acc: 0.9895 - val_loss: 0.3007 - val_acc: 0.9270\n",
      "Epoch 67/100\n",
      "100/100 [==============================] - 16s 164ms/step - loss: 0.0186 - acc: 0.9950 - val_loss: 0.2662 - val_acc: 0.9400\n",
      "Epoch 68/100\n",
      "100/100 [==============================] - 16s 163ms/step - loss: 0.0376 - acc: 0.9850 - val_loss: 0.3159 - val_acc: 0.9270\n",
      "Epoch 69/100\n",
      "100/100 [==============================] - 16s 164ms/step - loss: 0.0355 - acc: 0.9885 - val_loss: 0.2529 - val_acc: 0.9380\n",
      "Epoch 70/100\n",
      "100/100 [==============================] - 17s 166ms/step - loss: 0.0223 - acc: 0.9900 - val_loss: 0.4891 - val_acc: 0.9120\n",
      "Epoch 71/100\n",
      "100/100 [==============================] - 16s 165ms/step - loss: 0.0322 - acc: 0.9900 - val_loss: 0.2982 - val_acc: 0.9290\n",
      "Epoch 72/100\n",
      "100/100 [==============================] - 16s 158ms/step - loss: 0.0321 - acc: 0.9875 - val_loss: 0.2743 - val_acc: 0.9380\n",
      "Epoch 73/100\n",
      "100/100 [==============================] - 16s 161ms/step - loss: 0.0288 - acc: 0.9905 - val_loss: 0.2160 - val_acc: 0.9380\n",
      "Epoch 74/100\n",
      "100/100 [==============================] - 16s 159ms/step - loss: 0.0269 - acc: 0.9910 - val_loss: 0.2053 - val_acc: 0.9390\n",
      "Epoch 75/100\n",
      "100/100 [==============================] - 16s 160ms/step - loss: 0.0234 - acc: 0.9915 - val_loss: 0.2671 - val_acc: 0.9390\n",
      "Epoch 76/100\n",
      "100/100 [==============================] - 16s 158ms/step - loss: 0.0251 - acc: 0.9920 - val_loss: 0.2604 - val_acc: 0.9340\n",
      "Epoch 77/100\n",
      "100/100 [==============================] - 16s 163ms/step - loss: 0.0276 - acc: 0.9910 - val_loss: 0.2732 - val_acc: 0.9410\n",
      "Epoch 78/100\n",
      "100/100 [==============================] - 16s 163ms/step - loss: 0.0339 - acc: 0.9860 - val_loss: 0.2452 - val_acc: 0.9400\n",
      "Epoch 79/100\n",
      "100/100 [==============================] - 17s 167ms/step - loss: 0.0102 - acc: 0.9970 - val_loss: 0.2737 - val_acc: 0.9370\n",
      "Epoch 80/100\n",
      "100/100 [==============================] - 17s 175ms/step - loss: 0.0282 - acc: 0.9900 - val_loss: 0.2172 - val_acc: 0.9420\n",
      "Epoch 81/100\n",
      "100/100 [==============================] - 16s 163ms/step - loss: 0.0136 - acc: 0.9960 - val_loss: 0.2570 - val_acc: 0.9320\n",
      "Epoch 82/100\n",
      "100/100 [==============================] - 17s 171ms/step - loss: 0.0241 - acc: 0.9935 - val_loss: 0.2627 - val_acc: 0.9320\n",
      "Epoch 83/100\n",
      "100/100 [==============================] - 17s 174ms/step - loss: 0.0223 - acc: 0.9915 - val_loss: 0.2488 - val_acc: 0.9360\n",
      "Epoch 84/100\n",
      "100/100 [==============================] - 17s 169ms/step - loss: 0.0232 - acc: 0.9915 - val_loss: 0.2702 - val_acc: 0.9330\n",
      "Epoch 85/100\n",
      "100/100 [==============================] - 17s 169ms/step - loss: 0.0322 - acc: 0.9910 - val_loss: 0.2367 - val_acc: 0.9350\n",
      "Epoch 86/100\n",
      "100/100 [==============================] - 17s 167ms/step - loss: 0.0229 - acc: 0.9910 - val_loss: 0.2532 - val_acc: 0.9340\n",
      "Epoch 87/100\n",
      "100/100 [==============================] - 17s 166ms/step - loss: 0.0229 - acc: 0.9900 - val_loss: 0.2963 - val_acc: 0.9320\n",
      "Epoch 88/100\n",
      "100/100 [==============================] - 16s 160ms/step - loss: 0.0243 - acc: 0.9920 - val_loss: 0.2429 - val_acc: 0.9380\n",
      "Epoch 89/100\n",
      "100/100 [==============================] - 17s 166ms/step - loss: 0.0265 - acc: 0.9890 - val_loss: 0.3619 - val_acc: 0.9280\n",
      "Epoch 90/100\n",
      "100/100 [==============================] - 17s 168ms/step - loss: 0.0244 - acc: 0.9910 - val_loss: 0.3245 - val_acc: 0.9280\n",
      "Epoch 91/100\n",
      "100/100 [==============================] - 16s 161ms/step - loss: 0.0185 - acc: 0.9915 - val_loss: 0.3026 - val_acc: 0.9360\n",
      "Epoch 92/100\n",
      "100/100 [==============================] - 16s 161ms/step - loss: 0.0155 - acc: 0.9960 - val_loss: 0.3259 - val_acc: 0.9390\n",
      "Epoch 93/100\n",
      "100/100 [==============================] - 16s 159ms/step - loss: 0.0149 - acc: 0.9940 - val_loss: 0.2717 - val_acc: 0.9380\n",
      "Epoch 94/100\n",
      "100/100 [==============================] - 17s 166ms/step - loss: 0.0179 - acc: 0.9930 - val_loss: 0.2860 - val_acc: 0.9330\n",
      "Epoch 95/100\n",
      "100/100 [==============================] - 17s 166ms/step - loss: 0.0239 - acc: 0.9920 - val_loss: 0.4086 - val_acc: 0.9230\n",
      "Epoch 96/100\n",
      "100/100 [==============================] - 17s 174ms/step - loss: 0.0178 - acc: 0.9930 - val_loss: 0.3528 - val_acc: 0.9280\n",
      "Epoch 97/100\n",
      "100/100 [==============================] - 16s 162ms/step - loss: 0.0156 - acc: 0.9930 - val_loss: 0.4090 - val_acc: 0.9320\n",
      "Epoch 98/100\n",
      "100/100 [==============================] - 16s 165ms/step - loss: 0.0199 - acc: 0.9930 - val_loss: 0.2545 - val_acc: 0.9430\n",
      "Epoch 99/100\n",
      "100/100 [==============================] - 16s 163ms/step - loss: 0.0201 - acc: 0.9930 - val_loss: 0.2822 - val_acc: 0.9360\n",
      "Epoch 100/100\n",
      "100/100 [==============================] - 16s 159ms/step - loss: 0.0196 - acc: 0.9905 - val_loss: 0.2442 - val_acc: 0.9420\n"
     ]
    }
   ],
   "source": [
    "model.compile(loss='binary_crossentropy',\n",
    "              optimizer=optimizers.RMSprop(lr=1e-5), # 适当降低学习率，以保证微调的效果\n",
    "              metrics=['acc'])\n",
    "\n",
    "history = model.fit_generator(\n",
    "      train_generator,\n",
    "      steps_per_epoch=100,\n",
    "      epochs=100,\n",
    "      validation_data=validation_generator,\n",
    "      validation_steps=50)"
   ]
  },
  {
   "cell_type": "code",
   "execution_count": 20,
   "metadata": {},
   "outputs": [],
   "source": [
    "model.save('cats_and_dogs_small_4.h5')"
   ]
  },
  {
   "cell_type": "markdown",
   "metadata": {},
   "source": [
    "绘制图像："
   ]
  },
  {
   "cell_type": "code",
   "execution_count": 21,
   "metadata": {},
   "outputs": [
    {
     "data": {
      "image/png": "[encoded data removed]",
      "text/plain": [
       "<Figure size 432x288 with 1 Axes>"
      ]
     },
     "metadata": {
      "needs_background": "light"
     },
     "output_type": "display_data"
    },
    {
     "data": {
      "image/png": "[encoded data removed]",
      "text/plain": [
       "<Figure size 432x288 with 1 Axes>"
      ]
     },
     "metadata": {
      "needs_background": "light"
     },
     "output_type": "display_data"
    }
   ],
   "source": [
    "acc = history.history['acc']\n",
    "val_acc = history.history['val_acc']\n",
    "loss = history.history['loss']\n",
    "val_loss = history.history['val_loss']\n",
    "\n",
    "epochs = range(len(acc))\n",
    "\n",
    "plt.plot(epochs, acc, 'bo', label='Training acc')\n",
    "plt.plot(epochs, val_acc, 'b', label='Validation acc')\n",
    "plt.title('Training and validation accuracy')\n",
    "plt.legend()\n",
    "\n",
    "plt.figure()\n",
    "\n",
    "plt.plot(epochs, loss, 'bo', label='Training loss')\n",
    "plt.plot(epochs, val_loss, 'b', label='Validation loss')\n",
    "plt.title('Training and validation loss')\n",
    "plt.legend()\n",
    "\n",
    "plt.show()"
   ]
  },
  {
   "cell_type": "markdown",
   "metadata": {},
   "source": [
    "平滑图像："
   ]
  },
  {
   "cell_type": "code",
   "execution_count": 23,
   "metadata": {},
   "outputs": [
    {
     "data": {
      "image/png": "[encoded data removed]",
      "text/plain": [
       "<Figure size 432x288 with 1 Axes>"
      ]
     },
     "metadata": {
      "needs_background": "light"
     },
     "output_type": "display_data"
    },
    {
     "data": {
      "image/png": "[encoded data removed]",
      "text/plain": [
       "<Figure size 432x288 with 1 Axes>"
      ]
     },
     "metadata": {
      "needs_background": "light"
     },
     "output_type": "display_data"
    }
   ],
   "source": [
    "def smooth_curve(points, factor=0.8):\n",
    "    smoothed_points = []\n",
    "    for point in points:\n",
    "        if smoothed_points:\n",
    "            previous = smoothed_points[-1]\n",
    "            smoothed_points.append(previous * factor + point * (1 - factor))\n",
    "        else:\n",
    "            smoothed_points.append(point)\n",
    "    return smoothed_points\n",
    "\n",
    "plt.plot(epochs,\n",
    "         smooth_curve(acc), 'bo', label='Smoothed training acc')\n",
    "plt.plot(epochs,\n",
    "         smooth_curve(val_acc), 'b', label='Smoothed validation acc')\n",
    "plt.title('Training and validation accuracy')\n",
    "plt.legend()\n",
    "\n",
    "plt.figure()\n",
    "\n",
    "plt.plot(epochs,\n",
    "         smooth_curve(loss), 'bo', label='Smoothed training loss')\n",
    "plt.plot(epochs,\n",
    "         smooth_curve(val_loss), 'b', label='Smoothed validation loss')\n",
    "plt.title('Training and validation loss')\n",
    "plt.legend()\n",
    "\n",
    "plt.show()"
   ]
  },
  {
   "cell_type": "markdown",
   "metadata": {},
   "source": [
    "从上图可以看到模型在验证集上的准确率进一步提升。说明进一步的微调是有效的。\n",
    "\n",
    "最后在测试数据上验证模型准确率："
   ]
  },
  {
   "cell_type": "code",
   "execution_count": 24,
   "metadata": {},
   "outputs": [
    {
     "name": "stdout",
     "output_type": "stream",
     "text": [
      "Found 1000 images belonging to 2 classes.\n",
      "test acc: 0.9389999902248383\n"
     ]
    }
   ],
   "source": [
    "test_generator = test_datagen.flow_from_directory(\n",
    "        test_dir,\n",
    "        target_size=(150, 150),\n",
    "        batch_size=20,\n",
    "        class_mode='binary')\n",
    "\n",
    "test_loss, test_acc = model.evaluate_generator(test_generator, steps=50)\n",
    "print('test acc:', test_acc)"
   ]
  },
  {
   "cell_type": "code",
   "execution_count": null,
   "metadata": {},
   "outputs": [],
   "source": []
  }
 ],
 "metadata": {
  "kernelspec": {
   "display_name": "TensorFlow-GPU",
   "language": "python",
   "name": "tf-gpu"
  },
  "language_info": {
   "codemirror_mode": {
    "name": "ipython",
    "version": 3
   },
   "file_extension": ".py",
   "mimetype": "text/x-python",
   "name": "python",
   "nbconvert_exporter": "python",
   "pygments_lexer": "ipython3",
   "version": "3.7.3"
  }
 },
 "nbformat": 4,
 "nbformat_minor": 2
}
