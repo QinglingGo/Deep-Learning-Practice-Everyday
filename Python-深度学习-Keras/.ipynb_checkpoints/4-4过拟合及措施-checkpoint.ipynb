{
 "cells": [
  {
   "cell_type": "markdown",
   "metadata": {},
   "source": [
    "# 1. 欠拟合和过拟合\n",
    "\n",
    "仍然使用IMDB数据，测试在大小不同的网络下训练过程中过拟合的情况。\n",
    "\n",
    "## 下载数据"
   ]
  },
  {
   "cell_type": "code",
   "execution_count": 1,
   "metadata": {},
   "outputs": [
    {
     "name": "stderr",
     "output_type": "stream",
     "text": [
      "Using TensorFlow backend.\n"
     ]
    }
   ],
   "source": [
    "from keras.datasets import imdb\n",
    "import numpy as np\n",
    "\n",
    "(train_data, train_labels), (test_data, test_labels) = imdb.load_data(num_words=10000)\n",
    "\n",
    "def vectorize_sequences(sequences, dimension=10000):\n",
    "    results = np.zeros((len(sequences), dimension))\n",
    "    for i, sequence in enumerate(sequences):\n",
    "        results[i, sequence] = 1.  \n",
    "    return results\n",
    "\n",
    "\n",
    "x_train = vectorize_sequences(train_data)\n",
    "x_test = vectorize_sequences(test_data)\n",
    "\n",
    "y_train = np.asarray(train_labels).astype('float32')\n",
    "y_test = np.asarray(test_labels).astype('float32')"
   ]
  },
  {
   "cell_type": "markdown",
   "metadata": {},
   "source": [
    "## 原始网络"
   ]
  },
  {
   "cell_type": "code",
   "execution_count": 2,
   "metadata": {},
   "outputs": [
    {
     "name": "stdout",
     "output_type": "stream",
     "text": [
      "WARNING:tensorflow:From /home/hu/anaconda3/envs/tf-gpu/lib/python3.7/site-packages/tensorflow/python/framework/op_def_library.py:263: colocate_with (from tensorflow.python.framework.ops) is deprecated and will be removed in a future version.\n",
      "Instructions for updating:\n",
      "Colocations handled automatically by placer.\n"
     ]
    }
   ],
   "source": [
    "from keras import models\n",
    "from keras import layers\n",
    "\n",
    "original_model = models.Sequential()\n",
    "original_model.add(layers.Dense(16, activation='relu', input_shape=(10000,)))\n",
    "original_model.add(layers.Dense(16, activation='relu'))\n",
    "original_model.add(layers.Dense(1, activation='sigmoid'))\n",
    "\n",
    "original_model.compile(optimizer='rmsprop',\n",
    "                       loss='binary_crossentropy',\n",
    "                       metrics=['acc'])"
   ]
  },
  {
   "cell_type": "code",
   "execution_count": 3,
   "metadata": {},
   "outputs": [
    {
     "name": "stdout",
     "output_type": "stream",
     "text": [
      "WARNING:tensorflow:From /home/hu/anaconda3/envs/tf-gpu/lib/python3.7/site-packages/tensorflow/python/ops/math_ops.py:3066: to_int32 (from tensorflow.python.ops.math_ops) is deprecated and will be removed in a future version.\n",
      "Instructions for updating:\n",
      "Use tf.cast instead.\n",
      "Train on 25000 samples, validate on 25000 samples\n",
      "Epoch 1/20\n",
      "25000/25000 [==============================] - 3s 134us/step - loss: 0.4496 - acc: 0.8165 - val_loss: 0.3345 - val_acc: 0.8790\n",
      "Epoch 2/20\n",
      "25000/25000 [==============================] - 2s 65us/step - loss: 0.2552 - acc: 0.9094 - val_loss: 0.3170 - val_acc: 0.8705\n",
      "Epoch 3/20\n",
      "25000/25000 [==============================] - 2s 73us/step - loss: 0.1969 - acc: 0.9298 - val_loss: 0.2821 - val_acc: 0.8882\n",
      "Epoch 4/20\n",
      "25000/25000 [==============================] - 2s 73us/step - loss: 0.1669 - acc: 0.9409 - val_loss: 0.2946 - val_acc: 0.8832\n",
      "Epoch 5/20\n",
      "25000/25000 [==============================] - 2s 80us/step - loss: 0.1431 - acc: 0.9485 - val_loss: 0.3221 - val_acc: 0.8783\n",
      "Epoch 6/20\n",
      "25000/25000 [==============================] - 2s 81us/step - loss: 0.1266 - acc: 0.9562 - val_loss: 0.3491 - val_acc: 0.8726\n",
      "Epoch 7/20\n",
      "25000/25000 [==============================] - 2s 80us/step - loss: 0.1128 - acc: 0.9609 - val_loss: 0.3614 - val_acc: 0.8714\n",
      "Epoch 8/20\n",
      "25000/25000 [==============================] - 2s 80us/step - loss: 0.1010 - acc: 0.9650 - val_loss: 0.4100 - val_acc: 0.8634\n",
      "Epoch 9/20\n",
      "25000/25000 [==============================] - 2s 80us/step - loss: 0.0903 - acc: 0.9686 - val_loss: 0.4177 - val_acc: 0.8650\n",
      "Epoch 10/20\n",
      "25000/25000 [==============================] - 2s 81us/step - loss: 0.0810 - acc: 0.9724 - val_loss: 0.4481 - val_acc: 0.8622\n",
      "Epoch 11/20\n",
      "25000/25000 [==============================] - 2s 80us/step - loss: 0.0738 - acc: 0.9753 - val_loss: 0.4748 - val_acc: 0.8608\n",
      "Epoch 12/20\n",
      "25000/25000 [==============================] - 2s 80us/step - loss: 0.0641 - acc: 0.9792 - val_loss: 0.5270 - val_acc: 0.8579\n",
      "Epoch 13/20\n",
      "25000/25000 [==============================] - 2s 81us/step - loss: 0.0611 - acc: 0.9793 - val_loss: 0.5294 - val_acc: 0.8587\n",
      "Epoch 14/20\n",
      "25000/25000 [==============================] - 2s 81us/step - loss: 0.0499 - acc: 0.9845 - val_loss: 0.6075 - val_acc: 0.8482\n",
      "Epoch 15/20\n",
      "25000/25000 [==============================] - 2s 78us/step - loss: 0.0470 - acc: 0.9850 - val_loss: 0.6027 - val_acc: 0.8528\n",
      "Epoch 16/20\n",
      "25000/25000 [==============================] - 2s 77us/step - loss: 0.0388 - acc: 0.9891 - val_loss: 0.6350 - val_acc: 0.8527\n",
      "Epoch 17/20\n",
      "25000/25000 [==============================] - 2s 81us/step - loss: 0.0374 - acc: 0.9888 - val_loss: 0.6761 - val_acc: 0.8508\n",
      "Epoch 18/20\n",
      "25000/25000 [==============================] - 2s 81us/step - loss: 0.0294 - acc: 0.9921 - val_loss: 0.7307 - val_acc: 0.8477\n",
      "Epoch 19/20\n",
      "25000/25000 [==============================] - 2s 82us/step - loss: 0.0265 - acc: 0.9923 - val_loss: 0.7375 - val_acc: 0.8491\n",
      "Epoch 20/20\n",
      "25000/25000 [==============================] - 2s 90us/step - loss: 0.0252 - acc: 0.9924 - val_loss: 0.7783 - val_acc: 0.8489\n"
     ]
    }
   ],
   "source": [
    "original_hist = original_model.fit(x_train, y_train,\n",
    "                                   epochs=20,\n",
    "                                   batch_size=512,\n",
    "                                   validation_data=(x_test, y_test))"
   ]
  },
  {
   "cell_type": "markdown",
   "metadata": {},
   "source": [
    "# 小网络\n",
    "\n",
    "减少隐层节点的数目，缩小网络的容量。"
   ]
  },
  {
   "cell_type": "code",
   "execution_count": 4,
   "metadata": {},
   "outputs": [],
   "source": [
    "smaller_model = models.Sequential()\n",
    "smaller_model.add(layers.Dense(4, activation='relu', input_shape=(10000,)))\n",
    "smaller_model.add(layers.Dense(4, activation='relu'))\n",
    "smaller_model.add(layers.Dense(1, activation='sigmoid'))\n",
    "\n",
    "smaller_model.compile(optimizer='rmsprop',\n",
    "                      loss='binary_crossentropy',\n",
    "                      metrics=['acc'])"
   ]
  },
  {
   "cell_type": "code",
   "execution_count": 5,
   "metadata": {},
   "outputs": [
    {
     "name": "stdout",
     "output_type": "stream",
     "text": [
      "Train on 25000 samples, validate on 25000 samples\n",
      "Epoch 1/20\n",
      "25000/25000 [==============================] - 2s 81us/step - loss: 0.5232 - acc: 0.8066 - val_loss: 0.4189 - val_acc: 0.8666\n",
      "Epoch 2/20\n",
      "25000/25000 [==============================] - 2s 67us/step - loss: 0.3370 - acc: 0.8967 - val_loss: 0.3340 - val_acc: 0.8816\n",
      "Epoch 3/20\n",
      "25000/25000 [==============================] - 2s 66us/step - loss: 0.2583 - acc: 0.9164 - val_loss: 0.2935 - val_acc: 0.8892\n",
      "Epoch 4/20\n",
      "25000/25000 [==============================] - 2s 67us/step - loss: 0.2153 - acc: 0.9286 - val_loss: 0.2811 - val_acc: 0.8896\n",
      "Epoch 5/20\n",
      "25000/25000 [==============================] - 2s 67us/step - loss: 0.1867 - acc: 0.9378 - val_loss: 0.2871 - val_acc: 0.8840\n",
      "Epoch 6/20\n",
      "25000/25000 [==============================] - 2s 63us/step - loss: 0.1665 - acc: 0.9433 - val_loss: 0.2831 - val_acc: 0.8866\n",
      "Epoch 7/20\n",
      "25000/25000 [==============================] - 2s 70us/step - loss: 0.1506 - acc: 0.9500 - val_loss: 0.2901 - val_acc: 0.8846\n",
      "Epoch 8/20\n",
      "25000/25000 [==============================] - 2s 68us/step - loss: 0.1370 - acc: 0.9547 - val_loss: 0.3007 - val_acc: 0.8822\n",
      "Epoch 9/20\n",
      "25000/25000 [==============================] - 2s 66us/step - loss: 0.1261 - acc: 0.9581 - val_loss: 0.3119 - val_acc: 0.8800\n",
      "Epoch 10/20\n",
      "25000/25000 [==============================] - 2s 73us/step - loss: 0.1165 - acc: 0.9622 - val_loss: 0.3360 - val_acc: 0.8733\n",
      "Epoch 11/20\n",
      "25000/25000 [==============================] - 2s 71us/step - loss: 0.1083 - acc: 0.9658 - val_loss: 0.3394 - val_acc: 0.8758\n",
      "Epoch 12/20\n",
      "25000/25000 [==============================] - 2s 74us/step - loss: 0.1003 - acc: 0.9690 - val_loss: 0.3562 - val_acc: 0.8718\n",
      "Epoch 13/20\n",
      "25000/25000 [==============================] - 2s 73us/step - loss: 0.0928 - acc: 0.9722 - val_loss: 0.3684 - val_acc: 0.8717\n",
      "Epoch 14/20\n",
      "25000/25000 [==============================] - 2s 74us/step - loss: 0.0872 - acc: 0.9741 - val_loss: 0.3878 - val_acc: 0.8693\n",
      "Epoch 15/20\n",
      "25000/25000 [==============================] - 2s 72us/step - loss: 0.0809 - acc: 0.9759 - val_loss: 0.4032 - val_acc: 0.8670\n",
      "Epoch 16/20\n",
      "25000/25000 [==============================] - 2s 71us/step - loss: 0.0755 - acc: 0.9778 - val_loss: 0.4191 - val_acc: 0.8650\n",
      "Epoch 17/20\n",
      "25000/25000 [==============================] - 2s 71us/step - loss: 0.0698 - acc: 0.9804 - val_loss: 0.4377 - val_acc: 0.8649\n",
      "Epoch 18/20\n",
      "25000/25000 [==============================] - 2s 70us/step - loss: 0.0649 - acc: 0.9822 - val_loss: 0.4565 - val_acc: 0.8635\n",
      "Epoch 19/20\n",
      "25000/25000 [==============================] - 2s 71us/step - loss: 0.0603 - acc: 0.9840 - val_loss: 0.4766 - val_acc: 0.8616\n",
      "Epoch 20/20\n",
      "25000/25000 [==============================] - 2s 71us/step - loss: 0.0561 - acc: 0.9850 - val_loss: 0.4970 - val_acc: 0.8591\n"
     ]
    }
   ],
   "source": [
    "smaller_model_hist = smaller_model.fit(x_train, y_train,\n",
    "                                       epochs=20,\n",
    "                                       batch_size=512,\n",
    "                                       validation_data=(x_test, y_test))"
   ]
  },
  {
   "cell_type": "markdown",
   "metadata": {},
   "source": [
    "### 小网络和原始网络对比"
   ]
  },
  {
   "cell_type": "code",
   "execution_count": 10,
   "metadata": {},
   "outputs": [
    {
     "data": {
      "image/png": "[encoded data removed]",
      "text/plain": [
       "<Figure size 432x288 with 1 Axes>"
      ]
     },
     "metadata": {
      "needs_background": "light"
     },
     "output_type": "display_data"
    }
   ],
   "source": [
    "epochs = range(1, 21)\n",
    "original_val_loss = original_hist.history['val_loss']\n",
    "smaller_model_val_loss = smaller_model_hist.history['val_loss']\n",
    "\n",
    "import matplotlib.pyplot as plt\n",
    "\n",
    "# b+ is for \"blue cross\"\n",
    "plt.plot(epochs, original_val_loss, 'b+', label='Original model')\n",
    "# \"bo\" is for \"blue dot\"\n",
    "plt.plot(epochs, smaller_model_val_loss, 'bo', label='Smaller model')\n",
    "plt.xlabel('Epochs')\n",
    "plt.ylabel('Validation loss')\n",
    "plt.legend()\n",
    "\n",
    "plt.show()"
   ]
  },
  {
   "cell_type": "markdown",
   "metadata": {},
   "source": [
    "和原始网络相比，小网络的过拟合发生较晚，并且过拟合发生后性能变差的速度较慢。"
   ]
  },
  {
   "cell_type": "markdown",
   "metadata": {},
   "source": [
    "## 大网络\n",
    "\n",
    "增加隐层节点的数目，扩大网络的容量。"
   ]
  },
  {
   "cell_type": "code",
   "execution_count": 7,
   "metadata": {},
   "outputs": [],
   "source": [
    "bigger_model = models.Sequential()\n",
    "bigger_model.add(layers.Dense(512, activation='relu', input_shape=(10000,)))\n",
    "bigger_model.add(layers.Dense(512, activation='relu'))\n",
    "bigger_model.add(layers.Dense(1, activation='sigmoid'))\n",
    "\n",
    "bigger_model.compile(optimizer='rmsprop',\n",
    "                     loss='binary_crossentropy',\n",
    "                     metrics=['acc'])"
   ]
  },
  {
   "cell_type": "code",
   "execution_count": 8,
   "metadata": {},
   "outputs": [
    {
     "name": "stdout",
     "output_type": "stream",
     "text": [
      "Train on 25000 samples, validate on 25000 samples\n",
      "Epoch 1/20\n",
      "25000/25000 [==============================] - 3s 122us/step - loss: 0.4635 - acc: 0.7944 - val_loss: 0.2871 - val_acc: 0.8887\n",
      "Epoch 2/20\n",
      "25000/25000 [==============================] - 3s 101us/step - loss: 0.2232 - acc: 0.9132 - val_loss: 0.3263 - val_acc: 0.8646\n",
      "Epoch 3/20\n",
      "25000/25000 [==============================] - 3s 100us/step - loss: 0.1368 - acc: 0.9498 - val_loss: 0.3135 - val_acc: 0.8829\n",
      "Epoch 4/20\n",
      "25000/25000 [==============================] - 3s 112us/step - loss: 0.0769 - acc: 0.9787 - val_loss: 0.4173 - val_acc: 0.8830\n",
      "Epoch 5/20\n",
      "25000/25000 [==============================] - 3s 112us/step - loss: 0.0720 - acc: 0.9864 - val_loss: 0.4944 - val_acc: 0.8828\n",
      "Epoch 6/20\n",
      "25000/25000 [==============================] - 3s 119us/step - loss: 0.0717 - acc: 0.9887 - val_loss: 0.4790 - val_acc: 0.8792\n",
      "Epoch 7/20\n",
      "25000/25000 [==============================] - 3s 116us/step - loss: 0.0011 - acc: 1.0000 - val_loss: 0.6488 - val_acc: 0.8812\n",
      "Epoch 8/20\n",
      "25000/25000 [==============================] - 2s 96us/step - loss: 1.4424e-04 - acc: 1.0000 - val_loss: 0.8018 - val_acc: 0.8743\n",
      "Epoch 9/20\n",
      "25000/25000 [==============================] - 2s 93us/step - loss: 0.0891 - acc: 0.9888 - val_loss: 0.6909 - val_acc: 0.8780\n",
      "Epoch 10/20\n",
      "25000/25000 [==============================] - 2s 96us/step - loss: 9.4632e-05 - acc: 1.0000 - val_loss: 0.7793 - val_acc: 0.8791\n",
      "Epoch 11/20\n",
      "25000/25000 [==============================] - 2s 93us/step - loss: 1.2399e-05 - acc: 1.0000 - val_loss: 0.8882 - val_acc: 0.8786\n",
      "Epoch 12/20\n",
      "25000/25000 [==============================] - 2s 93us/step - loss: 5.7817e-06 - acc: 1.0000 - val_loss: 4.5354 - val_acc: 0.6190\n",
      "Epoch 13/20\n",
      "25000/25000 [==============================] - 2s 93us/step - loss: 0.1017 - acc: 0.9890 - val_loss: 0.8686 - val_acc: 0.8767\n",
      "Epoch 14/20\n",
      "25000/25000 [==============================] - 2s 93us/step - loss: 0.0574 - acc: 0.9928 - val_loss: 0.8380 - val_acc: 0.8661\n",
      "Epoch 15/20\n",
      "25000/25000 [==============================] - 2s 93us/step - loss: 8.4254e-05 - acc: 1.0000 - val_loss: 0.8505 - val_acc: 0.8730\n",
      "Epoch 16/20\n",
      "25000/25000 [==============================] - 2s 91us/step - loss: 0.0635 - acc: 0.9911 - val_loss: 0.7231 - val_acc: 0.8800\n",
      "Epoch 17/20\n",
      "25000/25000 [==============================] - 2s 93us/step - loss: 1.9437e-05 - acc: 1.0000 - val_loss: 0.9040 - val_acc: 0.8670\n",
      "Epoch 18/20\n",
      "25000/25000 [==============================] - 2s 93us/step - loss: 7.4245e-06 - acc: 1.0000 - val_loss: 0.8678 - val_acc: 0.8806\n",
      "Epoch 19/20\n",
      "25000/25000 [==============================] - 2s 88us/step - loss: 0.0797 - acc: 0.9915 - val_loss: 0.9710 - val_acc: 0.8736\n",
      "Epoch 20/20\n",
      "25000/25000 [==============================] - 2s 94us/step - loss: 6.6369e-04 - acc: 1.0000 - val_loss: 0.9156 - val_acc: 0.8794\n"
     ]
    }
   ],
   "source": [
    "bigger_model_hist = bigger_model.fit(x_train, y_train,\n",
    "                                     epochs=20,\n",
    "                                     batch_size=512,\n",
    "                                     validation_data=(x_test, y_test))"
   ]
  },
  {
   "cell_type": "markdown",
   "metadata": {},
   "source": [
    "### 大网络和原始网络相比"
   ]
  },
  {
   "cell_type": "code",
   "execution_count": 9,
   "metadata": {},
   "outputs": [
    {
     "data": {
      "image/png": "[encoded data removed]",
      "text/plain": [
       "<Figure size 432x288 with 1 Axes>"
      ]
     },
     "metadata": {
      "needs_background": "light"
     },
     "output_type": "display_data"
    }
   ],
   "source": [
    "bigger_model_val_loss = bigger_model_hist.history['val_loss']\n",
    "\n",
    "plt.plot(epochs, original_val_loss, 'b+', label='Original model')\n",
    "plt.plot(epochs, bigger_model_val_loss, 'bo', label='Bigger model')\n",
    "plt.xlabel('Epochs')\n",
    "plt.ylabel('Validation loss')\n",
    "plt.legend()\n",
    "\n",
    "plt.show()"
   ]
  },
  {
   "cell_type": "markdown",
   "metadata": {},
   "source": [
    "由上图可知，大网络过拟合发生的更早，且过拟合发生后验证损失更大且波动严重。"
   ]
  },
  {
   "cell_type": "markdown",
   "metadata": {},
   "source": [
    "# 2. 预防过拟合\n",
    "\n",
    "## 权重正则化\n",
    "\n",
    "权重正则化的目的是强制模型权重只取较小的值，从而限制模型的复杂度，使权重更加规则。\n",
    "\n",
    "权重正则化的实现方法是在损失函数中添加和较大权重相关的成本。有两种权重正则化的形式：\n",
    "\n",
    "1. L1正则化：添加的成本与权重系数绝对值（L1范数）成正比\n",
    "\n",
    "2. L2正则化：添加的成本与权重系数平方（L2范数）成正比\n",
    "\n",
    "__利用l2正则化预防过拟合：__"
   ]
  },
  {
   "cell_type": "code",
   "execution_count": 13,
   "metadata": {},
   "outputs": [],
   "source": [
    "from keras import regularizers\n",
    "\n",
    "l2_model = models.Sequential()\n",
    "l2_model.add(layers.Dense(16, kernel_regularizer=regularizers.l2(0.001),\n",
    "                          activation='relu', input_shape=(10000,)))\n",
    "l2_model.add(layers.Dense(16, kernel_regularizer=regularizers.l2(0.001),\n",
    "                          activation='relu'))\n",
    "l2_model.add(layers.Dense(1, activation='sigmoid'))\n",
    "\n",
    "l2_model.compile(optimizer='rmsprop',\n",
    "                 loss='binary_crossentropy',\n",
    "                 metrics=['acc'])"
   ]
  },
  {
   "cell_type": "markdown",
   "metadata": {},
   "source": [
    "__kernel_regularizer=regularizers.l2(0.001)__ 表示该层权重矩阵的每个系数都会使网络总损失增加0.001 * weight_coefficient_value\n",
    "\n",
    "由于正则项只在训练时添加，所以网络的训练损失会比测试损失大"
   ]
  },
  {
   "cell_type": "code",
   "execution_count": 14,
   "metadata": {},
   "outputs": [
    {
     "name": "stdout",
     "output_type": "stream",
     "text": [
      "Train on 25000 samples, validate on 25000 samples\n",
      "Epoch 1/20\n",
      "25000/25000 [==============================] - 3s 100us/step - loss: 0.4864 - acc: 0.8299 - val_loss: 0.3778 - val_acc: 0.8822\n",
      "Epoch 2/20\n",
      "25000/25000 [==============================] - 2s 75us/step - loss: 0.3150 - acc: 0.9044 - val_loss: 0.3368 - val_acc: 0.8859\n",
      "Epoch 3/20\n",
      "25000/25000 [==============================] - 2s 75us/step - loss: 0.2698 - acc: 0.9204 - val_loss: 0.3403 - val_acc: 0.8820\n",
      "Epoch 4/20\n",
      "25000/25000 [==============================] - 2s 75us/step - loss: 0.2518 - acc: 0.9271 - val_loss: 0.3336 - val_acc: 0.8873\n",
      "Epoch 5/20\n",
      "25000/25000 [==============================] - 2s 86us/step - loss: 0.2394 - acc: 0.9314 - val_loss: 0.3926 - val_acc: 0.8636\n",
      "Epoch 6/20\n",
      "25000/25000 [==============================] - 2s 77us/step - loss: 0.2296 - acc: 0.9352 - val_loss: 0.3451 - val_acc: 0.8824\n",
      "Epoch 7/20\n",
      "25000/25000 [==============================] - 2s 78us/step - loss: 0.2248 - acc: 0.9364 - val_loss: 0.3527 - val_acc: 0.8811\n",
      "Epoch 8/20\n",
      "25000/25000 [==============================] - 2s 74us/step - loss: 0.2200 - acc: 0.9410 - val_loss: 0.3724 - val_acc: 0.8750\n",
      "Epoch 9/20\n",
      "25000/25000 [==============================] - 2s 85us/step - loss: 0.2127 - acc: 0.9434 - val_loss: 0.3797 - val_acc: 0.8733\n",
      "Epoch 10/20\n",
      "25000/25000 [==============================] - 2s 77us/step - loss: 0.2105 - acc: 0.9448 - val_loss: 0.3903 - val_acc: 0.8704\n",
      "Epoch 11/20\n",
      "25000/25000 [==============================] - 2s 85us/step - loss: 0.2081 - acc: 0.9455 - val_loss: 0.4029 - val_acc: 0.8672\n",
      "Epoch 12/20\n",
      "25000/25000 [==============================] - 2s 74us/step - loss: 0.2032 - acc: 0.9465 - val_loss: 0.4214 - val_acc: 0.8637\n",
      "Epoch 13/20\n",
      "25000/25000 [==============================] - 2s 88us/step - loss: 0.2003 - acc: 0.9478 - val_loss: 0.4070 - val_acc: 0.8668\n",
      "Epoch 14/20\n",
      "25000/25000 [==============================] - 2s 69us/step - loss: 0.2032 - acc: 0.9460 - val_loss: 0.3979 - val_acc: 0.8706\n",
      "Epoch 15/20\n",
      "25000/25000 [==============================] - 2s 73us/step - loss: 0.1978 - acc: 0.9490 - val_loss: 0.4090 - val_acc: 0.8687\n",
      "Epoch 16/20\n",
      "25000/25000 [==============================] - 2s 74us/step - loss: 0.1949 - acc: 0.9504 - val_loss: 0.4001 - val_acc: 0.8713\n",
      "Epoch 17/20\n",
      "25000/25000 [==============================] - 2s 72us/step - loss: 0.1965 - acc: 0.9490 - val_loss: 0.4028 - val_acc: 0.8697\n",
      "Epoch 18/20\n",
      "25000/25000 [==============================] - 2s 76us/step - loss: 0.1927 - acc: 0.9489 - val_loss: 0.4070 - val_acc: 0.8699\n",
      "Epoch 19/20\n",
      "25000/25000 [==============================] - 2s 76us/step - loss: 0.1909 - acc: 0.9495 - val_loss: 0.4109 - val_acc: 0.8674\n",
      "Epoch 20/20\n",
      "25000/25000 [==============================] - 2s 77us/step - loss: 0.1859 - acc: 0.9524 - val_loss: 0.4146 - val_acc: 0.8690\n"
     ]
    }
   ],
   "source": [
    "l2_model_hist = l2_model.fit(x_train, y_train,\n",
    "                             epochs=20,\n",
    "                             batch_size=512,\n",
    "                             validation_data=(x_test, y_test))"
   ]
  },
  {
   "cell_type": "code",
   "execution_count": 15,
   "metadata": {},
   "outputs": [
    {
     "data": {
      "image/png": "[encoded data removed]",
      "text/plain": [
       "<Figure size 432x288 with 1 Axes>"
      ]
     },
     "metadata": {
      "needs_background": "light"
     },
     "output_type": "display_data"
    }
   ],
   "source": [
    "l2_model_val_loss = l2_model_hist.history['val_loss']\n",
    "\n",
    "plt.plot(epochs, original_val_loss, 'b+', label='Original model')\n",
    "plt.plot(epochs, l2_model_val_loss, 'bo', label='L2-regularized model')\n",
    "plt.xlabel('Epochs')\n",
    "plt.ylabel('Validation loss')\n",
    "plt.legend()\n",
    "\n",
    "plt.show()"
   ]
  },
  {
   "cell_type": "markdown",
   "metadata": {},
   "source": [
    "上图表明，虽然两个模型的参数相同，但是具有l2正则化的模型比原始模型更不容易过拟合。"
   ]
  },
  {
   "cell_type": "markdown",
   "metadata": {},
   "source": [
    "## dropout正则化\n",
    "\n",
    "对某一层网络使用dropout正则化，就是在训练过程中随机将该层的一些输出特征舍弃(设置为0)。\n",
    "\n",
    "dropout rate是被设置为0的特征所占比例，通常在0.2~0.5的范围内。\n",
    "\n",
    "测试时没有单元被舍弃，但是该层输出值需要按照dropout的比例缩小，因为此时比训练时有更多的单元被激活，需要加以平衡。"
   ]
  },
  {
   "cell_type": "code",
   "execution_count": 16,
   "metadata": {},
   "outputs": [
    {
     "name": "stdout",
     "output_type": "stream",
     "text": [
      "WARNING:tensorflow:From /home/hu/anaconda3/envs/tf-gpu/lib/python3.7/site-packages/keras/backend/tensorflow_backend.py:3445: calling dropout (from tensorflow.python.ops.nn_ops) with keep_prob is deprecated and will be removed in a future version.\n",
      "Instructions for updating:\n",
      "Please use `rate` instead of `keep_prob`. Rate should be set to `rate = 1 - keep_prob`.\n"
     ]
    }
   ],
   "source": [
    "dpt_model = models.Sequential()\n",
    "dpt_model.add(layers.Dense(16, activation='relu', input_shape=(10000,)))\n",
    "dpt_model.add(layers.Dropout(0.5))\n",
    "dpt_model.add(layers.Dense(16, activation='relu'))\n",
    "dpt_model.add(layers.Dropout(0.5))\n",
    "dpt_model.add(layers.Dense(1, activation='sigmoid'))\n",
    "\n",
    "dpt_model.compile(optimizer='rmsprop',\n",
    "                  loss='binary_crossentropy',\n",
    "                  metrics=['acc'])"
   ]
  },
  {
   "cell_type": "code",
   "execution_count": 17,
   "metadata": {},
   "outputs": [
    {
     "name": "stdout",
     "output_type": "stream",
     "text": [
      "Train on 25000 samples, validate on 25000 samples\n",
      "Epoch 1/20\n",
      "25000/25000 [==============================] - 3s 101us/step - loss: 0.5906 - acc: 0.6839 - val_loss: 0.4324 - val_acc: 0.8620\n",
      "Epoch 2/20\n",
      "25000/25000 [==============================] - 2s 79us/step - loss: 0.4359 - acc: 0.8186 - val_loss: 0.3475 - val_acc: 0.8706\n",
      "Epoch 3/20\n",
      "25000/25000 [==============================] - 2s 77us/step - loss: 0.3469 - acc: 0.8714 - val_loss: 0.2912 - val_acc: 0.8872\n",
      "Epoch 4/20\n",
      "25000/25000 [==============================] - 2s 79us/step - loss: 0.2881 - acc: 0.8983 - val_loss: 0.2765 - val_acc: 0.8884\n",
      "Epoch 5/20\n",
      "25000/25000 [==============================] - 2s 77us/step - loss: 0.2531 - acc: 0.9136 - val_loss: 0.2802 - val_acc: 0.8884\n",
      "Epoch 6/20\n",
      "25000/25000 [==============================] - 2s 78us/step - loss: 0.2218 - acc: 0.9266 - val_loss: 0.2886 - val_acc: 0.8874\n",
      "Epoch 7/20\n",
      "25000/25000 [==============================] - 2s 78us/step - loss: 0.1967 - acc: 0.9356 - val_loss: 0.3197 - val_acc: 0.8854\n",
      "Epoch 8/20\n",
      "25000/25000 [==============================] - 2s 79us/step - loss: 0.1762 - acc: 0.9428 - val_loss: 0.3310 - val_acc: 0.8854\n",
      "Epoch 9/20\n",
      "25000/25000 [==============================] - 2s 76us/step - loss: 0.1710 - acc: 0.9450 - val_loss: 0.3578 - val_acc: 0.8851\n",
      "Epoch 10/20\n",
      "25000/25000 [==============================] - 2s 79us/step - loss: 0.1509 - acc: 0.9512 - val_loss: 0.3766 - val_acc: 0.8838\n",
      "Epoch 11/20\n",
      "25000/25000 [==============================] - 2s 79us/step - loss: 0.1456 - acc: 0.9532 - val_loss: 0.3937 - val_acc: 0.8817\n",
      "Epoch 12/20\n",
      "25000/25000 [==============================] - 2s 79us/step - loss: 0.1378 - acc: 0.9567 - val_loss: 0.4366 - val_acc: 0.8757\n",
      "Epoch 13/20\n",
      "25000/25000 [==============================] - 2s 78us/step - loss: 0.1241 - acc: 0.9600 - val_loss: 0.4524 - val_acc: 0.8784\n",
      "Epoch 14/20\n",
      "25000/25000 [==============================] - 2s 79us/step - loss: 0.1198 - acc: 0.9606 - val_loss: 0.4472 - val_acc: 0.8766\n",
      "Epoch 15/20\n",
      "25000/25000 [==============================] - 2s 80us/step - loss: 0.1144 - acc: 0.9630 - val_loss: 0.4956 - val_acc: 0.8729\n",
      "Epoch 16/20\n",
      "25000/25000 [==============================] - 2s 83us/step - loss: 0.1138 - acc: 0.9644 - val_loss: 0.5153 - val_acc: 0.8760\n",
      "Epoch 17/20\n",
      "25000/25000 [==============================] - 2s 80us/step - loss: 0.1083 - acc: 0.9658 - val_loss: 0.5370 - val_acc: 0.8746\n",
      "Epoch 18/20\n",
      "25000/25000 [==============================] - 2s 79us/step - loss: 0.1102 - acc: 0.9661 - val_loss: 0.5468 - val_acc: 0.8742\n",
      "Epoch 19/20\n",
      "25000/25000 [==============================] - 2s 78us/step - loss: 0.0974 - acc: 0.9683 - val_loss: 0.5749 - val_acc: 0.8730\n",
      "Epoch 20/20\n",
      "25000/25000 [==============================] - 2s 77us/step - loss: 0.1024 - acc: 0.9690 - val_loss: 0.5710 - val_acc: 0.8710\n"
     ]
    }
   ],
   "source": [
    "dpt_model_hist = dpt_model.fit(x_train, y_train,\n",
    "                               epochs=20,\n",
    "                               batch_size=512,\n",
    "                               validation_data=(x_test, y_test))"
   ]
  },
  {
   "cell_type": "code",
   "execution_count": 18,
   "metadata": {},
   "outputs": [
    {
     "data": {
      "image/png": "[encoded data removed]",
      "text/plain": [
       "<Figure size 432x288 with 1 Axes>"
      ]
     },
     "metadata": {
      "needs_background": "light"
     },
     "output_type": "display_data"
    }
   ],
   "source": [
    "dpt_model_val_loss = dpt_model_hist.history['val_loss']\n",
    "\n",
    "plt.plot(epochs, original_val_loss, 'b+', label='Original model')\n",
    "plt.plot(epochs, dpt_model_val_loss, 'bo', label='Dropout-regularized model')\n",
    "plt.xlabel('Epochs')\n",
    "plt.ylabel('Validation loss')\n",
    "plt.legend()\n",
    "\n",
    "plt.show()"
   ]
  },
  {
   "cell_type": "markdown",
   "metadata": {},
   "source": [
    "## 总结\n",
    "\n",
    "预防过拟合的方法：\n",
    "\n",
    "1. 获得更多训练数据\n",
    "\n",
    "2. 减小网络容量\n",
    "\n",
    "3. 添加权重正则化: L1正则化，L2正则化\n",
    "\n",
    "4. 添加dropout正则化"
   ]
  },
  {
   "cell_type": "code",
   "execution_count": null,
   "metadata": {},
   "outputs": [],
   "source": []
  }
 ],
 "metadata": {
  "kernelspec": {
   "display_name": "TensorFlow-GPU",
   "language": "python",
   "name": "tf-gpu"
  },
  "language_info": {
   "codemirror_mode": {
    "name": "ipython",
    "version": 3
   },
   "file_extension": ".py",
   "mimetype": "text/x-python",
   "name": "python",
   "nbconvert_exporter": "python",
   "pygments_lexer": "ipython3",
   "version": "3.7.3"
  }
 },
 "nbformat": 4,
 "nbformat_minor": 2
}
