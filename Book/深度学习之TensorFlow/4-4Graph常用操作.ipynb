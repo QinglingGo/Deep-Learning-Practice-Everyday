{
 "cells": [
  {
   "cell_type": "code",
   "execution_count": 1,
   "metadata": {},
   "outputs": [],
   "source": [
    "import numpy as np\n",
    "import tensorflow as tf "
   ]
  },
  {
   "cell_type": "markdown",
   "metadata": {},
   "source": [
    "# 创建图"
   ]
  },
  {
   "cell_type": "code",
   "execution_count": 5,
   "metadata": {},
   "outputs": [
    {
     "name": "stdout",
     "output_type": "stream",
     "text": [
      "c1_graph:  <tensorflow.python.framework.ops.Graph object at 0x00000226CCE2DD68>\n",
      "g_graph:  <tensorflow.python.framework.ops.Graph object at 0x00000226CCE2DD68>\n",
      "c_graph:  <tensorflow.python.framework.ops.Graph object at 0x00000226CDE3BE48>\n"
     ]
    }
   ],
   "source": [
    "c = tf.constant(0.0) # c建立在最开始的默认图中，编号0x00000226CDE3BE48\n",
    "\n",
    "g = tf.Graph() # g建立新图，编号0x00000226CDE10470\n",
    "with g.as_default():\n",
    "  c1 = tf.constant(0.0) # c1建立在g中，编号和g相同\n",
    "\n",
    "print(\"c1_graph: \", c1.graph)\n",
    "print(\"g_graph: \", g)\n",
    "print(\"c_graph: \", c.graph)"
   ]
  },
  {
   "cell_type": "code",
   "execution_count": 6,
   "metadata": {},
   "outputs": [
    {
     "name": "stdout",
     "output_type": "stream",
     "text": [
      "<tensorflow.python.framework.ops.Graph object at 0x00000226CDE3BE48>\n",
      "<tensorflow.python.framework.ops.Graph object at 0x00000226CCE2DB00>\n"
     ]
    }
   ],
   "source": [
    "g2 =  tf.get_default_graph() # tf.get_default_graph()恢复原始默认图，编号和c相同，均为原始图的编号\n",
    "print(g2)\n",
    "\n",
    "tf.reset_default_graph() # tf.reset_default_graph()建立一张新图替代默认图，编号是新编号0x00000226CCE2DB00\n",
    "g3 =  tf.get_default_graph()\n",
    "print(g3)"
   ]
  },
  {
   "cell_type": "markdown",
   "metadata": {},
   "source": [
    "# 获取张量"
   ]
  },
  {
   "cell_type": "code",
   "execution_count": 7,
   "metadata": {},
   "outputs": [
    {
     "name": "stdout",
     "output_type": "stream",
     "text": [
      "Const:0\n",
      "Tensor(\"Const:0\", shape=(), dtype=float32)\n"
     ]
    }
   ],
   "source": [
    "print(c1.name)\n",
    "t = g.get_tensor_by_name(name = \"Const:0\")\n",
    "print(t)"
   ]
  },
  {
   "cell_type": "markdown",
   "metadata": {},
   "source": [
    "# 获取节点"
   ]
  },
  {
   "cell_type": "code",
   "execution_count": 8,
   "metadata": {},
   "outputs": [
    {
     "name": "stdout",
     "output_type": "stream",
     "text": [
      "exampleop:0 Tensor(\"exampleop:0\", shape=(1, 1), dtype=float32)\n",
      "Tensor(\"exampleop:0\", shape=(1, 1), dtype=float32)\n"
     ]
    }
   ],
   "source": [
    "a = tf.constant([[1.0, 2.0]])\n",
    "b = tf.constant([[1.0], [3.0]])\n",
    "\n",
    "tensor1 = tf.matmul(a, b, name='exampleop')\n",
    "print(tensor1.name,tensor1) \n",
    "test = g3.get_tensor_by_name(\"exampleop:0\")\n",
    "print(test)"
   ]
  },
  {
   "cell_type": "code",
   "execution_count": 9,
   "metadata": {},
   "outputs": [
    {
     "name": "stdout",
     "output_type": "stream",
     "text": [
      "exampleop\n",
      "name: \"exampleop\"\n",
      "op: \"MatMul\"\n",
      "input: \"Const\"\n",
      "input: \"Const_1\"\n",
      "attr {\n",
      "  key: \"T\"\n",
      "  value {\n",
      "    type: DT_FLOAT\n",
      "  }\n",
      "}\n",
      "attr {\n",
      "  key: \"transpose_a\"\n",
      "  value {\n",
      "    b: false\n",
      "  }\n",
      "}\n",
      "attr {\n",
      "  key: \"transpose_b\"\n",
      "  value {\n",
      "    b: false\n",
      "  }\n",
      "}\n",
      "\n"
     ]
    }
   ],
   "source": [
    "print(tensor1.op.name)\n",
    "testop = g3.get_operation_by_name(\"exampleop\")\n",
    "print(testop)"
   ]
  },
  {
   "cell_type": "code",
   "execution_count": 10,
   "metadata": {},
   "outputs": [
    {
     "name": "stdout",
     "output_type": "stream",
     "text": [
      "[[7.]]\n",
      "Tensor(\"exampleop:0\", shape=(1, 1), dtype=float32)\n"
     ]
    }
   ],
   "source": [
    "with tf.Session() as sess:\n",
    "    test =  sess.run(test)\n",
    "    print(test) \n",
    "    test = tf.get_default_graph().get_tensor_by_name(\"exampleop:0\")\n",
    "    print (test) "
   ]
  },
  {
   "cell_type": "markdown",
   "metadata": {},
   "source": [
    "# 获取元素列表"
   ]
  },
  {
   "cell_type": "code",
   "execution_count": 11,
   "metadata": {},
   "outputs": [
    {
     "name": "stdout",
     "output_type": "stream",
     "text": [
      "[<tf.Operation 'Const' type=Const>]\n"
     ]
    }
   ],
   "source": [
    "#返回图中的操作节点列表\n",
    "tt2 = g.get_operations()\n",
    "print(tt2)"
   ]
  },
  {
   "cell_type": "markdown",
   "metadata": {},
   "source": [
    "# 获取对象"
   ]
  },
  {
   "cell_type": "code",
   "execution_count": 12,
   "metadata": {},
   "outputs": [
    {
     "name": "stdout",
     "output_type": "stream",
     "text": [
      "Tensor(\"Const:0\", shape=(), dtype=float32)\n"
     ]
    }
   ],
   "source": [
    "tt3 = g.as_graph_element(c1)\n",
    "print(tt3)"
   ]
  }
 ],
 "metadata": {
  "kernelspec": {
   "display_name": "Python 3",
   "language": "python",
   "name": "python3"
  },
  "language_info": {
   "codemirror_mode": {
    "name": "ipython",
    "version": 3
   },
   "file_extension": ".py",
   "mimetype": "text/x-python",
   "name": "python",
   "nbconvert_exporter": "python",
   "pygments_lexer": "ipython3",
   "version": "3.7.3"
  }
 },
 "nbformat": 4,
 "nbformat_minor": 2
}
