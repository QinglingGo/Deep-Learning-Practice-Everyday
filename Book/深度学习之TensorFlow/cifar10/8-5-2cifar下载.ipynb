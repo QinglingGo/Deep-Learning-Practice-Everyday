{
 "cells": [
  {
   "cell_type": "code",
   "execution_count": 1,
   "metadata": {},
   "outputs": [],
   "source": [
    "import cifar10\n",
    "import cifar10_input\n",
    "import tensorflow as tf\n",
    "import pylab \n",
    "import os\n",
    "from scipy.misc import imsave  "
   ]
  },
  {
   "cell_type": "code",
   "execution_count": null,
   "metadata": {},
   "outputs": [],
   "source": [
    "# 下载数据\n",
    "cifar10.maybe_download_and_extract()"
   ]
  },
  {
   "cell_type": "code",
   "execution_count": null,
   "metadata": {},
   "outputs": [],
   "source": [
    "#取数据\n",
    "batch_size = 12\n",
    "workPath = os.getcwd()\n",
    "data_dir = 'tmp/cifar10_data/cifar-10-batches-bin'\n",
    "dest_directory = os.path.join(workPath, data_dir)\n",
    "images_test, labels_test = cifar10_input.inputs(eval_data = True, data_dir = dest_directory, batch_size = batch_size)"
   ]
  },
  {
   "cell_type": "code",
   "execution_count": null,
   "metadata": {},
   "outputs": [],
   "source": [
    "# 读取的数据经过标准化处理，变成均值为０方差为１的数据分布，所以输出的图片是乱的\n",
    "sess = tf.Session()\n",
    "tf.global_variables_initializer().run(session=sess)\n",
    "tf.train.start_queue_runners(sess=sess)\n",
    "image_batch, label_batch = sess.run([images_test, labels_test])\n",
    "print(\"__\\n\",image_batch[0])\n",
    "print(\"__\\n\",label_batch[0])\n",
    "pylab.imshow(image_batch[0])\n",
    "pylab.show()"
   ]
  },
  {
   "cell_type": "code",
   "execution_count": null,
   "metadata": {},
   "outputs": [],
   "source": []
  }
 ],
 "metadata": {
  "kernelspec": {
   "display_name": "TensorFlow-GPU",
   "language": "python",
   "name": "tf-gpu"
  },
  "language_info": {
   "codemirror_mode": {
    "name": "ipython",
    "version": 3
   },
   "file_extension": ".py",
   "mimetype": "text/x-python",
   "name": "python",
   "nbconvert_exporter": "python",
   "pygments_lexer": "ipython3",
   "version": "3.7.3"
  }
 },
 "nbformat": 4,
 "nbformat_minor": 2
}
